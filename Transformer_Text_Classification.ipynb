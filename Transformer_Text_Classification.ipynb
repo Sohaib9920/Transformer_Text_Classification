{
  "nbformat": 4,
  "nbformat_minor": 0,
  "metadata": {
    "colab": {
      "provenance": [],
      "authorship_tag": "ABX9TyMcsTuBEA2OYHWDWAnPmgTd",
      "include_colab_link": true
    },
    "kernelspec": {
      "name": "python3",
      "display_name": "Python 3"
    },
    "language_info": {
      "name": "python"
    },
    "widgets": {
      "application/vnd.jupyter.widget-state+json": {
        "f5c81b0bd03a4abf86c8ba4ef10b640a": {
          "model_module": "@jupyter-widgets/controls",
          "model_name": "HBoxModel",
          "model_module_version": "1.5.0",
          "state": {
            "_dom_classes": [],
            "_model_module": "@jupyter-widgets/controls",
            "_model_module_version": "1.5.0",
            "_model_name": "HBoxModel",
            "_view_count": null,
            "_view_module": "@jupyter-widgets/controls",
            "_view_module_version": "1.5.0",
            "_view_name": "HBoxView",
            "box_style": "",
            "children": [
              "IPY_MODEL_3e77a092dae3442388bc20ed55c85d8f",
              "IPY_MODEL_236f1800118346f28e72c47bf5cb72f9",
              "IPY_MODEL_574553738b894e87b6e58935f2584a21"
            ],
            "layout": "IPY_MODEL_34287b9ea3af40d8b2114a3d3b12138e"
          }
        },
        "3e77a092dae3442388bc20ed55c85d8f": {
          "model_module": "@jupyter-widgets/controls",
          "model_name": "HTMLModel",
          "model_module_version": "1.5.0",
          "state": {
            "_dom_classes": [],
            "_model_module": "@jupyter-widgets/controls",
            "_model_module_version": "1.5.0",
            "_model_name": "HTMLModel",
            "_view_count": null,
            "_view_module": "@jupyter-widgets/controls",
            "_view_module_version": "1.5.0",
            "_view_name": "HTMLView",
            "description": "",
            "description_tooltip": null,
            "layout": "IPY_MODEL_1ae8840e79c44ef681fb521cc8999d17",
            "placeholder": "​",
            "style": "IPY_MODEL_3b1c5ce16ccf4ba1abdfd2c56e639ac7",
            "value": "Downloading data: 100%"
          }
        },
        "236f1800118346f28e72c47bf5cb72f9": {
          "model_module": "@jupyter-widgets/controls",
          "model_name": "FloatProgressModel",
          "model_module_version": "1.5.0",
          "state": {
            "_dom_classes": [],
            "_model_module": "@jupyter-widgets/controls",
            "_model_module_version": "1.5.0",
            "_model_name": "FloatProgressModel",
            "_view_count": null,
            "_view_module": "@jupyter-widgets/controls",
            "_view_module_version": "1.5.0",
            "_view_name": "ProgressView",
            "bar_style": "success",
            "description": "",
            "description_tooltip": null,
            "layout": "IPY_MODEL_56f4b329a5c3478e87aec367d1324eb5",
            "max": 1658616,
            "min": 0,
            "orientation": "horizontal",
            "style": "IPY_MODEL_45332daca21541bdb7d96d27b5d25830",
            "value": 1658616
          }
        },
        "574553738b894e87b6e58935f2584a21": {
          "model_module": "@jupyter-widgets/controls",
          "model_name": "HTMLModel",
          "model_module_version": "1.5.0",
          "state": {
            "_dom_classes": [],
            "_model_module": "@jupyter-widgets/controls",
            "_model_module_version": "1.5.0",
            "_model_name": "HTMLModel",
            "_view_count": null,
            "_view_module": "@jupyter-widgets/controls",
            "_view_module_version": "1.5.0",
            "_view_name": "HTMLView",
            "description": "",
            "description_tooltip": null,
            "layout": "IPY_MODEL_57d30601a1c04881b5c6b29e41074a83",
            "placeholder": "​",
            "style": "IPY_MODEL_7d00009a370c43fe9f61dd8e591e3613",
            "value": " 1.66M/1.66M [00:00&lt;00:00, 2.97MB/s]"
          }
        },
        "34287b9ea3af40d8b2114a3d3b12138e": {
          "model_module": "@jupyter-widgets/base",
          "model_name": "LayoutModel",
          "model_module_version": "1.2.0",
          "state": {
            "_model_module": "@jupyter-widgets/base",
            "_model_module_version": "1.2.0",
            "_model_name": "LayoutModel",
            "_view_count": null,
            "_view_module": "@jupyter-widgets/base",
            "_view_module_version": "1.2.0",
            "_view_name": "LayoutView",
            "align_content": null,
            "align_items": null,
            "align_self": null,
            "border": null,
            "bottom": null,
            "display": null,
            "flex": null,
            "flex_flow": null,
            "grid_area": null,
            "grid_auto_columns": null,
            "grid_auto_flow": null,
            "grid_auto_rows": null,
            "grid_column": null,
            "grid_gap": null,
            "grid_row": null,
            "grid_template_areas": null,
            "grid_template_columns": null,
            "grid_template_rows": null,
            "height": null,
            "justify_content": null,
            "justify_items": null,
            "left": null,
            "margin": null,
            "max_height": null,
            "max_width": null,
            "min_height": null,
            "min_width": null,
            "object_fit": null,
            "object_position": null,
            "order": null,
            "overflow": null,
            "overflow_x": null,
            "overflow_y": null,
            "padding": null,
            "right": null,
            "top": null,
            "visibility": null,
            "width": null
          }
        },
        "1ae8840e79c44ef681fb521cc8999d17": {
          "model_module": "@jupyter-widgets/base",
          "model_name": "LayoutModel",
          "model_module_version": "1.2.0",
          "state": {
            "_model_module": "@jupyter-widgets/base",
            "_model_module_version": "1.2.0",
            "_model_name": "LayoutModel",
            "_view_count": null,
            "_view_module": "@jupyter-widgets/base",
            "_view_module_version": "1.2.0",
            "_view_name": "LayoutView",
            "align_content": null,
            "align_items": null,
            "align_self": null,
            "border": null,
            "bottom": null,
            "display": null,
            "flex": null,
            "flex_flow": null,
            "grid_area": null,
            "grid_auto_columns": null,
            "grid_auto_flow": null,
            "grid_auto_rows": null,
            "grid_column": null,
            "grid_gap": null,
            "grid_row": null,
            "grid_template_areas": null,
            "grid_template_columns": null,
            "grid_template_rows": null,
            "height": null,
            "justify_content": null,
            "justify_items": null,
            "left": null,
            "margin": null,
            "max_height": null,
            "max_width": null,
            "min_height": null,
            "min_width": null,
            "object_fit": null,
            "object_position": null,
            "order": null,
            "overflow": null,
            "overflow_x": null,
            "overflow_y": null,
            "padding": null,
            "right": null,
            "top": null,
            "visibility": null,
            "width": null
          }
        },
        "3b1c5ce16ccf4ba1abdfd2c56e639ac7": {
          "model_module": "@jupyter-widgets/controls",
          "model_name": "DescriptionStyleModel",
          "model_module_version": "1.5.0",
          "state": {
            "_model_module": "@jupyter-widgets/controls",
            "_model_module_version": "1.5.0",
            "_model_name": "DescriptionStyleModel",
            "_view_count": null,
            "_view_module": "@jupyter-widgets/base",
            "_view_module_version": "1.2.0",
            "_view_name": "StyleView",
            "description_width": ""
          }
        },
        "56f4b329a5c3478e87aec367d1324eb5": {
          "model_module": "@jupyter-widgets/base",
          "model_name": "LayoutModel",
          "model_module_version": "1.2.0",
          "state": {
            "_model_module": "@jupyter-widgets/base",
            "_model_module_version": "1.2.0",
            "_model_name": "LayoutModel",
            "_view_count": null,
            "_view_module": "@jupyter-widgets/base",
            "_view_module_version": "1.2.0",
            "_view_name": "LayoutView",
            "align_content": null,
            "align_items": null,
            "align_self": null,
            "border": null,
            "bottom": null,
            "display": null,
            "flex": null,
            "flex_flow": null,
            "grid_area": null,
            "grid_auto_columns": null,
            "grid_auto_flow": null,
            "grid_auto_rows": null,
            "grid_column": null,
            "grid_gap": null,
            "grid_row": null,
            "grid_template_areas": null,
            "grid_template_columns": null,
            "grid_template_rows": null,
            "height": null,
            "justify_content": null,
            "justify_items": null,
            "left": null,
            "margin": null,
            "max_height": null,
            "max_width": null,
            "min_height": null,
            "min_width": null,
            "object_fit": null,
            "object_position": null,
            "order": null,
            "overflow": null,
            "overflow_x": null,
            "overflow_y": null,
            "padding": null,
            "right": null,
            "top": null,
            "visibility": null,
            "width": null
          }
        },
        "45332daca21541bdb7d96d27b5d25830": {
          "model_module": "@jupyter-widgets/controls",
          "model_name": "ProgressStyleModel",
          "model_module_version": "1.5.0",
          "state": {
            "_model_module": "@jupyter-widgets/controls",
            "_model_module_version": "1.5.0",
            "_model_name": "ProgressStyleModel",
            "_view_count": null,
            "_view_module": "@jupyter-widgets/base",
            "_view_module_version": "1.2.0",
            "_view_name": "StyleView",
            "bar_color": null,
            "description_width": ""
          }
        },
        "57d30601a1c04881b5c6b29e41074a83": {
          "model_module": "@jupyter-widgets/base",
          "model_name": "LayoutModel",
          "model_module_version": "1.2.0",
          "state": {
            "_model_module": "@jupyter-widgets/base",
            "_model_module_version": "1.2.0",
            "_model_name": "LayoutModel",
            "_view_count": null,
            "_view_module": "@jupyter-widgets/base",
            "_view_module_version": "1.2.0",
            "_view_name": "LayoutView",
            "align_content": null,
            "align_items": null,
            "align_self": null,
            "border": null,
            "bottom": null,
            "display": null,
            "flex": null,
            "flex_flow": null,
            "grid_area": null,
            "grid_auto_columns": null,
            "grid_auto_flow": null,
            "grid_auto_rows": null,
            "grid_column": null,
            "grid_gap": null,
            "grid_row": null,
            "grid_template_areas": null,
            "grid_template_columns": null,
            "grid_template_rows": null,
            "height": null,
            "justify_content": null,
            "justify_items": null,
            "left": null,
            "margin": null,
            "max_height": null,
            "max_width": null,
            "min_height": null,
            "min_width": null,
            "object_fit": null,
            "object_position": null,
            "order": null,
            "overflow": null,
            "overflow_x": null,
            "overflow_y": null,
            "padding": null,
            "right": null,
            "top": null,
            "visibility": null,
            "width": null
          }
        },
        "7d00009a370c43fe9f61dd8e591e3613": {
          "model_module": "@jupyter-widgets/controls",
          "model_name": "DescriptionStyleModel",
          "model_module_version": "1.5.0",
          "state": {
            "_model_module": "@jupyter-widgets/controls",
            "_model_module_version": "1.5.0",
            "_model_name": "DescriptionStyleModel",
            "_view_count": null,
            "_view_module": "@jupyter-widgets/base",
            "_view_module_version": "1.2.0",
            "_view_name": "StyleView",
            "description_width": ""
          }
        },
        "8bb1c473d459409c9668cff9370a3dc5": {
          "model_module": "@jupyter-widgets/controls",
          "model_name": "HBoxModel",
          "model_module_version": "1.5.0",
          "state": {
            "_dom_classes": [],
            "_model_module": "@jupyter-widgets/controls",
            "_model_module_version": "1.5.0",
            "_model_name": "HBoxModel",
            "_view_count": null,
            "_view_module": "@jupyter-widgets/controls",
            "_view_module_version": "1.5.0",
            "_view_name": "HBoxView",
            "box_style": "",
            "children": [
              "IPY_MODEL_19ae48f5933e4809af50fa9bbcf33d63",
              "IPY_MODEL_5aebff84778543959ef929733220589f",
              "IPY_MODEL_060c8698959342cebc508ce13b5bc275"
            ],
            "layout": "IPY_MODEL_f7fa05df56144881953f2d64b50a408b"
          }
        },
        "19ae48f5933e4809af50fa9bbcf33d63": {
          "model_module": "@jupyter-widgets/controls",
          "model_name": "HTMLModel",
          "model_module_version": "1.5.0",
          "state": {
            "_dom_classes": [],
            "_model_module": "@jupyter-widgets/controls",
            "_model_module_version": "1.5.0",
            "_model_name": "HTMLModel",
            "_view_count": null,
            "_view_module": "@jupyter-widgets/controls",
            "_view_module_version": "1.5.0",
            "_view_name": "HTMLView",
            "description": "",
            "description_tooltip": null,
            "layout": "IPY_MODEL_0746805f5b474d26b5a109dd686996d0",
            "placeholder": "​",
            "style": "IPY_MODEL_d503e32d04724b85923e69dca27d2cd9",
            "value": "Generating train split: "
          }
        },
        "5aebff84778543959ef929733220589f": {
          "model_module": "@jupyter-widgets/controls",
          "model_name": "FloatProgressModel",
          "model_module_version": "1.5.0",
          "state": {
            "_dom_classes": [],
            "_model_module": "@jupyter-widgets/controls",
            "_model_module_version": "1.5.0",
            "_model_name": "FloatProgressModel",
            "_view_count": null,
            "_view_module": "@jupyter-widgets/controls",
            "_view_module_version": "1.5.0",
            "_view_name": "ProgressView",
            "bar_style": "success",
            "description": "",
            "description_tooltip": null,
            "layout": "IPY_MODEL_d3dd429a9f5342c58e7124c93e52e33c",
            "max": 1,
            "min": 0,
            "orientation": "horizontal",
            "style": "IPY_MODEL_128840e83d9f44929ecbf3f570df11f7",
            "value": 1
          }
        },
        "060c8698959342cebc508ce13b5bc275": {
          "model_module": "@jupyter-widgets/controls",
          "model_name": "HTMLModel",
          "model_module_version": "1.5.0",
          "state": {
            "_dom_classes": [],
            "_model_module": "@jupyter-widgets/controls",
            "_model_module_version": "1.5.0",
            "_model_name": "HTMLModel",
            "_view_count": null,
            "_view_module": "@jupyter-widgets/controls",
            "_view_module_version": "1.5.0",
            "_view_name": "HTMLView",
            "description": "",
            "description_tooltip": null,
            "layout": "IPY_MODEL_c85b1ebe4a1c480593126161db158334",
            "placeholder": "​",
            "style": "IPY_MODEL_d16e79c25ebe40399702064dda4d7532",
            "value": " 16000/0 [00:00&lt;00:00, 154780.29 examples/s]"
          }
        },
        "f7fa05df56144881953f2d64b50a408b": {
          "model_module": "@jupyter-widgets/base",
          "model_name": "LayoutModel",
          "model_module_version": "1.2.0",
          "state": {
            "_model_module": "@jupyter-widgets/base",
            "_model_module_version": "1.2.0",
            "_model_name": "LayoutModel",
            "_view_count": null,
            "_view_module": "@jupyter-widgets/base",
            "_view_module_version": "1.2.0",
            "_view_name": "LayoutView",
            "align_content": null,
            "align_items": null,
            "align_self": null,
            "border": null,
            "bottom": null,
            "display": null,
            "flex": null,
            "flex_flow": null,
            "grid_area": null,
            "grid_auto_columns": null,
            "grid_auto_flow": null,
            "grid_auto_rows": null,
            "grid_column": null,
            "grid_gap": null,
            "grid_row": null,
            "grid_template_areas": null,
            "grid_template_columns": null,
            "grid_template_rows": null,
            "height": null,
            "justify_content": null,
            "justify_items": null,
            "left": null,
            "margin": null,
            "max_height": null,
            "max_width": null,
            "min_height": null,
            "min_width": null,
            "object_fit": null,
            "object_position": null,
            "order": null,
            "overflow": null,
            "overflow_x": null,
            "overflow_y": null,
            "padding": null,
            "right": null,
            "top": null,
            "visibility": null,
            "width": null
          }
        },
        "0746805f5b474d26b5a109dd686996d0": {
          "model_module": "@jupyter-widgets/base",
          "model_name": "LayoutModel",
          "model_module_version": "1.2.0",
          "state": {
            "_model_module": "@jupyter-widgets/base",
            "_model_module_version": "1.2.0",
            "_model_name": "LayoutModel",
            "_view_count": null,
            "_view_module": "@jupyter-widgets/base",
            "_view_module_version": "1.2.0",
            "_view_name": "LayoutView",
            "align_content": null,
            "align_items": null,
            "align_self": null,
            "border": null,
            "bottom": null,
            "display": null,
            "flex": null,
            "flex_flow": null,
            "grid_area": null,
            "grid_auto_columns": null,
            "grid_auto_flow": null,
            "grid_auto_rows": null,
            "grid_column": null,
            "grid_gap": null,
            "grid_row": null,
            "grid_template_areas": null,
            "grid_template_columns": null,
            "grid_template_rows": null,
            "height": null,
            "justify_content": null,
            "justify_items": null,
            "left": null,
            "margin": null,
            "max_height": null,
            "max_width": null,
            "min_height": null,
            "min_width": null,
            "object_fit": null,
            "object_position": null,
            "order": null,
            "overflow": null,
            "overflow_x": null,
            "overflow_y": null,
            "padding": null,
            "right": null,
            "top": null,
            "visibility": null,
            "width": null
          }
        },
        "d503e32d04724b85923e69dca27d2cd9": {
          "model_module": "@jupyter-widgets/controls",
          "model_name": "DescriptionStyleModel",
          "model_module_version": "1.5.0",
          "state": {
            "_model_module": "@jupyter-widgets/controls",
            "_model_module_version": "1.5.0",
            "_model_name": "DescriptionStyleModel",
            "_view_count": null,
            "_view_module": "@jupyter-widgets/base",
            "_view_module_version": "1.2.0",
            "_view_name": "StyleView",
            "description_width": ""
          }
        },
        "d3dd429a9f5342c58e7124c93e52e33c": {
          "model_module": "@jupyter-widgets/base",
          "model_name": "LayoutModel",
          "model_module_version": "1.2.0",
          "state": {
            "_model_module": "@jupyter-widgets/base",
            "_model_module_version": "1.2.0",
            "_model_name": "LayoutModel",
            "_view_count": null,
            "_view_module": "@jupyter-widgets/base",
            "_view_module_version": "1.2.0",
            "_view_name": "LayoutView",
            "align_content": null,
            "align_items": null,
            "align_self": null,
            "border": null,
            "bottom": null,
            "display": null,
            "flex": null,
            "flex_flow": null,
            "grid_area": null,
            "grid_auto_columns": null,
            "grid_auto_flow": null,
            "grid_auto_rows": null,
            "grid_column": null,
            "grid_gap": null,
            "grid_row": null,
            "grid_template_areas": null,
            "grid_template_columns": null,
            "grid_template_rows": null,
            "height": null,
            "justify_content": null,
            "justify_items": null,
            "left": null,
            "margin": null,
            "max_height": null,
            "max_width": null,
            "min_height": null,
            "min_width": null,
            "object_fit": null,
            "object_position": null,
            "order": null,
            "overflow": null,
            "overflow_x": null,
            "overflow_y": null,
            "padding": null,
            "right": null,
            "top": null,
            "visibility": null,
            "width": "20px"
          }
        },
        "128840e83d9f44929ecbf3f570df11f7": {
          "model_module": "@jupyter-widgets/controls",
          "model_name": "ProgressStyleModel",
          "model_module_version": "1.5.0",
          "state": {
            "_model_module": "@jupyter-widgets/controls",
            "_model_module_version": "1.5.0",
            "_model_name": "ProgressStyleModel",
            "_view_count": null,
            "_view_module": "@jupyter-widgets/base",
            "_view_module_version": "1.2.0",
            "_view_name": "StyleView",
            "bar_color": null,
            "description_width": ""
          }
        },
        "c85b1ebe4a1c480593126161db158334": {
          "model_module": "@jupyter-widgets/base",
          "model_name": "LayoutModel",
          "model_module_version": "1.2.0",
          "state": {
            "_model_module": "@jupyter-widgets/base",
            "_model_module_version": "1.2.0",
            "_model_name": "LayoutModel",
            "_view_count": null,
            "_view_module": "@jupyter-widgets/base",
            "_view_module_version": "1.2.0",
            "_view_name": "LayoutView",
            "align_content": null,
            "align_items": null,
            "align_self": null,
            "border": null,
            "bottom": null,
            "display": null,
            "flex": null,
            "flex_flow": null,
            "grid_area": null,
            "grid_auto_columns": null,
            "grid_auto_flow": null,
            "grid_auto_rows": null,
            "grid_column": null,
            "grid_gap": null,
            "grid_row": null,
            "grid_template_areas": null,
            "grid_template_columns": null,
            "grid_template_rows": null,
            "height": null,
            "justify_content": null,
            "justify_items": null,
            "left": null,
            "margin": null,
            "max_height": null,
            "max_width": null,
            "min_height": null,
            "min_width": null,
            "object_fit": null,
            "object_position": null,
            "order": null,
            "overflow": null,
            "overflow_x": null,
            "overflow_y": null,
            "padding": null,
            "right": null,
            "top": null,
            "visibility": null,
            "width": null
          }
        },
        "d16e79c25ebe40399702064dda4d7532": {
          "model_module": "@jupyter-widgets/controls",
          "model_name": "DescriptionStyleModel",
          "model_module_version": "1.5.0",
          "state": {
            "_model_module": "@jupyter-widgets/controls",
            "_model_module_version": "1.5.0",
            "_model_name": "DescriptionStyleModel",
            "_view_count": null,
            "_view_module": "@jupyter-widgets/base",
            "_view_module_version": "1.2.0",
            "_view_name": "StyleView",
            "description_width": ""
          }
        },
        "59f24398c1784f4c80b6d505ae187aaa": {
          "model_module": "@jupyter-widgets/controls",
          "model_name": "HBoxModel",
          "model_module_version": "1.5.0",
          "state": {
            "_dom_classes": [],
            "_model_module": "@jupyter-widgets/controls",
            "_model_module_version": "1.5.0",
            "_model_name": "HBoxModel",
            "_view_count": null,
            "_view_module": "@jupyter-widgets/controls",
            "_view_module_version": "1.5.0",
            "_view_name": "HBoxView",
            "box_style": "",
            "children": [
              "IPY_MODEL_61005ccd86804dd4af18dae28d75e43b",
              "IPY_MODEL_386b5743a571433893798986bc351853",
              "IPY_MODEL_6985de7dcf3d40ab8382da96cbcd0128"
            ],
            "layout": "IPY_MODEL_1d1fc43cfe494ad68f2d05aa52a94e3b"
          }
        },
        "61005ccd86804dd4af18dae28d75e43b": {
          "model_module": "@jupyter-widgets/controls",
          "model_name": "HTMLModel",
          "model_module_version": "1.5.0",
          "state": {
            "_dom_classes": [],
            "_model_module": "@jupyter-widgets/controls",
            "_model_module_version": "1.5.0",
            "_model_name": "HTMLModel",
            "_view_count": null,
            "_view_module": "@jupyter-widgets/controls",
            "_view_module_version": "1.5.0",
            "_view_name": "HTMLView",
            "description": "",
            "description_tooltip": null,
            "layout": "IPY_MODEL_0c977a47c46d4f1c8578cacd87ee3352",
            "placeholder": "​",
            "style": "IPY_MODEL_7cbc486a7f714495aba1666cb63666db",
            "value": "tokenizer_config.json: 100%"
          }
        },
        "386b5743a571433893798986bc351853": {
          "model_module": "@jupyter-widgets/controls",
          "model_name": "FloatProgressModel",
          "model_module_version": "1.5.0",
          "state": {
            "_dom_classes": [],
            "_model_module": "@jupyter-widgets/controls",
            "_model_module_version": "1.5.0",
            "_model_name": "FloatProgressModel",
            "_view_count": null,
            "_view_module": "@jupyter-widgets/controls",
            "_view_module_version": "1.5.0",
            "_view_name": "ProgressView",
            "bar_style": "success",
            "description": "",
            "description_tooltip": null,
            "layout": "IPY_MODEL_872822d11aba4de9bb39236cd9d4542a",
            "max": 28,
            "min": 0,
            "orientation": "horizontal",
            "style": "IPY_MODEL_2695c4f1618a4fa38ab919dbb7d063ce",
            "value": 28
          }
        },
        "6985de7dcf3d40ab8382da96cbcd0128": {
          "model_module": "@jupyter-widgets/controls",
          "model_name": "HTMLModel",
          "model_module_version": "1.5.0",
          "state": {
            "_dom_classes": [],
            "_model_module": "@jupyter-widgets/controls",
            "_model_module_version": "1.5.0",
            "_model_name": "HTMLModel",
            "_view_count": null,
            "_view_module": "@jupyter-widgets/controls",
            "_view_module_version": "1.5.0",
            "_view_name": "HTMLView",
            "description": "",
            "description_tooltip": null,
            "layout": "IPY_MODEL_450aeb32656d4c09adfe0993ce8ad5c3",
            "placeholder": "​",
            "style": "IPY_MODEL_89bcd8b0120e4ed6b3d5dda28aca242d",
            "value": " 28.0/28.0 [00:00&lt;00:00, 357B/s]"
          }
        },
        "1d1fc43cfe494ad68f2d05aa52a94e3b": {
          "model_module": "@jupyter-widgets/base",
          "model_name": "LayoutModel",
          "model_module_version": "1.2.0",
          "state": {
            "_model_module": "@jupyter-widgets/base",
            "_model_module_version": "1.2.0",
            "_model_name": "LayoutModel",
            "_view_count": null,
            "_view_module": "@jupyter-widgets/base",
            "_view_module_version": "1.2.0",
            "_view_name": "LayoutView",
            "align_content": null,
            "align_items": null,
            "align_self": null,
            "border": null,
            "bottom": null,
            "display": null,
            "flex": null,
            "flex_flow": null,
            "grid_area": null,
            "grid_auto_columns": null,
            "grid_auto_flow": null,
            "grid_auto_rows": null,
            "grid_column": null,
            "grid_gap": null,
            "grid_row": null,
            "grid_template_areas": null,
            "grid_template_columns": null,
            "grid_template_rows": null,
            "height": null,
            "justify_content": null,
            "justify_items": null,
            "left": null,
            "margin": null,
            "max_height": null,
            "max_width": null,
            "min_height": null,
            "min_width": null,
            "object_fit": null,
            "object_position": null,
            "order": null,
            "overflow": null,
            "overflow_x": null,
            "overflow_y": null,
            "padding": null,
            "right": null,
            "top": null,
            "visibility": null,
            "width": null
          }
        },
        "0c977a47c46d4f1c8578cacd87ee3352": {
          "model_module": "@jupyter-widgets/base",
          "model_name": "LayoutModel",
          "model_module_version": "1.2.0",
          "state": {
            "_model_module": "@jupyter-widgets/base",
            "_model_module_version": "1.2.0",
            "_model_name": "LayoutModel",
            "_view_count": null,
            "_view_module": "@jupyter-widgets/base",
            "_view_module_version": "1.2.0",
            "_view_name": "LayoutView",
            "align_content": null,
            "align_items": null,
            "align_self": null,
            "border": null,
            "bottom": null,
            "display": null,
            "flex": null,
            "flex_flow": null,
            "grid_area": null,
            "grid_auto_columns": null,
            "grid_auto_flow": null,
            "grid_auto_rows": null,
            "grid_column": null,
            "grid_gap": null,
            "grid_row": null,
            "grid_template_areas": null,
            "grid_template_columns": null,
            "grid_template_rows": null,
            "height": null,
            "justify_content": null,
            "justify_items": null,
            "left": null,
            "margin": null,
            "max_height": null,
            "max_width": null,
            "min_height": null,
            "min_width": null,
            "object_fit": null,
            "object_position": null,
            "order": null,
            "overflow": null,
            "overflow_x": null,
            "overflow_y": null,
            "padding": null,
            "right": null,
            "top": null,
            "visibility": null,
            "width": null
          }
        },
        "7cbc486a7f714495aba1666cb63666db": {
          "model_module": "@jupyter-widgets/controls",
          "model_name": "DescriptionStyleModel",
          "model_module_version": "1.5.0",
          "state": {
            "_model_module": "@jupyter-widgets/controls",
            "_model_module_version": "1.5.0",
            "_model_name": "DescriptionStyleModel",
            "_view_count": null,
            "_view_module": "@jupyter-widgets/base",
            "_view_module_version": "1.2.0",
            "_view_name": "StyleView",
            "description_width": ""
          }
        },
        "872822d11aba4de9bb39236cd9d4542a": {
          "model_module": "@jupyter-widgets/base",
          "model_name": "LayoutModel",
          "model_module_version": "1.2.0",
          "state": {
            "_model_module": "@jupyter-widgets/base",
            "_model_module_version": "1.2.0",
            "_model_name": "LayoutModel",
            "_view_count": null,
            "_view_module": "@jupyter-widgets/base",
            "_view_module_version": "1.2.0",
            "_view_name": "LayoutView",
            "align_content": null,
            "align_items": null,
            "align_self": null,
            "border": null,
            "bottom": null,
            "display": null,
            "flex": null,
            "flex_flow": null,
            "grid_area": null,
            "grid_auto_columns": null,
            "grid_auto_flow": null,
            "grid_auto_rows": null,
            "grid_column": null,
            "grid_gap": null,
            "grid_row": null,
            "grid_template_areas": null,
            "grid_template_columns": null,
            "grid_template_rows": null,
            "height": null,
            "justify_content": null,
            "justify_items": null,
            "left": null,
            "margin": null,
            "max_height": null,
            "max_width": null,
            "min_height": null,
            "min_width": null,
            "object_fit": null,
            "object_position": null,
            "order": null,
            "overflow": null,
            "overflow_x": null,
            "overflow_y": null,
            "padding": null,
            "right": null,
            "top": null,
            "visibility": null,
            "width": null
          }
        },
        "2695c4f1618a4fa38ab919dbb7d063ce": {
          "model_module": "@jupyter-widgets/controls",
          "model_name": "ProgressStyleModel",
          "model_module_version": "1.5.0",
          "state": {
            "_model_module": "@jupyter-widgets/controls",
            "_model_module_version": "1.5.0",
            "_model_name": "ProgressStyleModel",
            "_view_count": null,
            "_view_module": "@jupyter-widgets/base",
            "_view_module_version": "1.2.0",
            "_view_name": "StyleView",
            "bar_color": null,
            "description_width": ""
          }
        },
        "450aeb32656d4c09adfe0993ce8ad5c3": {
          "model_module": "@jupyter-widgets/base",
          "model_name": "LayoutModel",
          "model_module_version": "1.2.0",
          "state": {
            "_model_module": "@jupyter-widgets/base",
            "_model_module_version": "1.2.0",
            "_model_name": "LayoutModel",
            "_view_count": null,
            "_view_module": "@jupyter-widgets/base",
            "_view_module_version": "1.2.0",
            "_view_name": "LayoutView",
            "align_content": null,
            "align_items": null,
            "align_self": null,
            "border": null,
            "bottom": null,
            "display": null,
            "flex": null,
            "flex_flow": null,
            "grid_area": null,
            "grid_auto_columns": null,
            "grid_auto_flow": null,
            "grid_auto_rows": null,
            "grid_column": null,
            "grid_gap": null,
            "grid_row": null,
            "grid_template_areas": null,
            "grid_template_columns": null,
            "grid_template_rows": null,
            "height": null,
            "justify_content": null,
            "justify_items": null,
            "left": null,
            "margin": null,
            "max_height": null,
            "max_width": null,
            "min_height": null,
            "min_width": null,
            "object_fit": null,
            "object_position": null,
            "order": null,
            "overflow": null,
            "overflow_x": null,
            "overflow_y": null,
            "padding": null,
            "right": null,
            "top": null,
            "visibility": null,
            "width": null
          }
        },
        "89bcd8b0120e4ed6b3d5dda28aca242d": {
          "model_module": "@jupyter-widgets/controls",
          "model_name": "DescriptionStyleModel",
          "model_module_version": "1.5.0",
          "state": {
            "_model_module": "@jupyter-widgets/controls",
            "_model_module_version": "1.5.0",
            "_model_name": "DescriptionStyleModel",
            "_view_count": null,
            "_view_module": "@jupyter-widgets/base",
            "_view_module_version": "1.2.0",
            "_view_name": "StyleView",
            "description_width": ""
          }
        },
        "dba3281f5b9b462f97d64009fdb62bac": {
          "model_module": "@jupyter-widgets/controls",
          "model_name": "HBoxModel",
          "model_module_version": "1.5.0",
          "state": {
            "_dom_classes": [],
            "_model_module": "@jupyter-widgets/controls",
            "_model_module_version": "1.5.0",
            "_model_name": "HBoxModel",
            "_view_count": null,
            "_view_module": "@jupyter-widgets/controls",
            "_view_module_version": "1.5.0",
            "_view_name": "HBoxView",
            "box_style": "",
            "children": [
              "IPY_MODEL_490a1fed568e4164b024c6b65939be64",
              "IPY_MODEL_15c4d877c0eb414bbc50352b777842e0",
              "IPY_MODEL_bfabe5f9ddff49e48c4f813740cc3845"
            ],
            "layout": "IPY_MODEL_03ae8cd48af2469195cf6ea307af6359"
          }
        },
        "490a1fed568e4164b024c6b65939be64": {
          "model_module": "@jupyter-widgets/controls",
          "model_name": "HTMLModel",
          "model_module_version": "1.5.0",
          "state": {
            "_dom_classes": [],
            "_model_module": "@jupyter-widgets/controls",
            "_model_module_version": "1.5.0",
            "_model_name": "HTMLModel",
            "_view_count": null,
            "_view_module": "@jupyter-widgets/controls",
            "_view_module_version": "1.5.0",
            "_view_name": "HTMLView",
            "description": "",
            "description_tooltip": null,
            "layout": "IPY_MODEL_75fa1f3371a3444e9619fc3861c16b7f",
            "placeholder": "​",
            "style": "IPY_MODEL_7902b04c801343b0abb2310a4ca1387a",
            "value": "config.json: 100%"
          }
        },
        "15c4d877c0eb414bbc50352b777842e0": {
          "model_module": "@jupyter-widgets/controls",
          "model_name": "FloatProgressModel",
          "model_module_version": "1.5.0",
          "state": {
            "_dom_classes": [],
            "_model_module": "@jupyter-widgets/controls",
            "_model_module_version": "1.5.0",
            "_model_name": "FloatProgressModel",
            "_view_count": null,
            "_view_module": "@jupyter-widgets/controls",
            "_view_module_version": "1.5.0",
            "_view_name": "ProgressView",
            "bar_style": "success",
            "description": "",
            "description_tooltip": null,
            "layout": "IPY_MODEL_905b34ead6214069942721b5b2384754",
            "max": 483,
            "min": 0,
            "orientation": "horizontal",
            "style": "IPY_MODEL_aaa6de719bcf4557b04cbee6305a4c16",
            "value": 483
          }
        },
        "bfabe5f9ddff49e48c4f813740cc3845": {
          "model_module": "@jupyter-widgets/controls",
          "model_name": "HTMLModel",
          "model_module_version": "1.5.0",
          "state": {
            "_dom_classes": [],
            "_model_module": "@jupyter-widgets/controls",
            "_model_module_version": "1.5.0",
            "_model_name": "HTMLModel",
            "_view_count": null,
            "_view_module": "@jupyter-widgets/controls",
            "_view_module_version": "1.5.0",
            "_view_name": "HTMLView",
            "description": "",
            "description_tooltip": null,
            "layout": "IPY_MODEL_a7c991e8dbd64c53b760bef90b2680b4",
            "placeholder": "​",
            "style": "IPY_MODEL_13763bbcc78245a6826351e38351894b",
            "value": " 483/483 [00:00&lt;00:00, 6.60kB/s]"
          }
        },
        "03ae8cd48af2469195cf6ea307af6359": {
          "model_module": "@jupyter-widgets/base",
          "model_name": "LayoutModel",
          "model_module_version": "1.2.0",
          "state": {
            "_model_module": "@jupyter-widgets/base",
            "_model_module_version": "1.2.0",
            "_model_name": "LayoutModel",
            "_view_count": null,
            "_view_module": "@jupyter-widgets/base",
            "_view_module_version": "1.2.0",
            "_view_name": "LayoutView",
            "align_content": null,
            "align_items": null,
            "align_self": null,
            "border": null,
            "bottom": null,
            "display": null,
            "flex": null,
            "flex_flow": null,
            "grid_area": null,
            "grid_auto_columns": null,
            "grid_auto_flow": null,
            "grid_auto_rows": null,
            "grid_column": null,
            "grid_gap": null,
            "grid_row": null,
            "grid_template_areas": null,
            "grid_template_columns": null,
            "grid_template_rows": null,
            "height": null,
            "justify_content": null,
            "justify_items": null,
            "left": null,
            "margin": null,
            "max_height": null,
            "max_width": null,
            "min_height": null,
            "min_width": null,
            "object_fit": null,
            "object_position": null,
            "order": null,
            "overflow": null,
            "overflow_x": null,
            "overflow_y": null,
            "padding": null,
            "right": null,
            "top": null,
            "visibility": null,
            "width": null
          }
        },
        "75fa1f3371a3444e9619fc3861c16b7f": {
          "model_module": "@jupyter-widgets/base",
          "model_name": "LayoutModel",
          "model_module_version": "1.2.0",
          "state": {
            "_model_module": "@jupyter-widgets/base",
            "_model_module_version": "1.2.0",
            "_model_name": "LayoutModel",
            "_view_count": null,
            "_view_module": "@jupyter-widgets/base",
            "_view_module_version": "1.2.0",
            "_view_name": "LayoutView",
            "align_content": null,
            "align_items": null,
            "align_self": null,
            "border": null,
            "bottom": null,
            "display": null,
            "flex": null,
            "flex_flow": null,
            "grid_area": null,
            "grid_auto_columns": null,
            "grid_auto_flow": null,
            "grid_auto_rows": null,
            "grid_column": null,
            "grid_gap": null,
            "grid_row": null,
            "grid_template_areas": null,
            "grid_template_columns": null,
            "grid_template_rows": null,
            "height": null,
            "justify_content": null,
            "justify_items": null,
            "left": null,
            "margin": null,
            "max_height": null,
            "max_width": null,
            "min_height": null,
            "min_width": null,
            "object_fit": null,
            "object_position": null,
            "order": null,
            "overflow": null,
            "overflow_x": null,
            "overflow_y": null,
            "padding": null,
            "right": null,
            "top": null,
            "visibility": null,
            "width": null
          }
        },
        "7902b04c801343b0abb2310a4ca1387a": {
          "model_module": "@jupyter-widgets/controls",
          "model_name": "DescriptionStyleModel",
          "model_module_version": "1.5.0",
          "state": {
            "_model_module": "@jupyter-widgets/controls",
            "_model_module_version": "1.5.0",
            "_model_name": "DescriptionStyleModel",
            "_view_count": null,
            "_view_module": "@jupyter-widgets/base",
            "_view_module_version": "1.2.0",
            "_view_name": "StyleView",
            "description_width": ""
          }
        },
        "905b34ead6214069942721b5b2384754": {
          "model_module": "@jupyter-widgets/base",
          "model_name": "LayoutModel",
          "model_module_version": "1.2.0",
          "state": {
            "_model_module": "@jupyter-widgets/base",
            "_model_module_version": "1.2.0",
            "_model_name": "LayoutModel",
            "_view_count": null,
            "_view_module": "@jupyter-widgets/base",
            "_view_module_version": "1.2.0",
            "_view_name": "LayoutView",
            "align_content": null,
            "align_items": null,
            "align_self": null,
            "border": null,
            "bottom": null,
            "display": null,
            "flex": null,
            "flex_flow": null,
            "grid_area": null,
            "grid_auto_columns": null,
            "grid_auto_flow": null,
            "grid_auto_rows": null,
            "grid_column": null,
            "grid_gap": null,
            "grid_row": null,
            "grid_template_areas": null,
            "grid_template_columns": null,
            "grid_template_rows": null,
            "height": null,
            "justify_content": null,
            "justify_items": null,
            "left": null,
            "margin": null,
            "max_height": null,
            "max_width": null,
            "min_height": null,
            "min_width": null,
            "object_fit": null,
            "object_position": null,
            "order": null,
            "overflow": null,
            "overflow_x": null,
            "overflow_y": null,
            "padding": null,
            "right": null,
            "top": null,
            "visibility": null,
            "width": null
          }
        },
        "aaa6de719bcf4557b04cbee6305a4c16": {
          "model_module": "@jupyter-widgets/controls",
          "model_name": "ProgressStyleModel",
          "model_module_version": "1.5.0",
          "state": {
            "_model_module": "@jupyter-widgets/controls",
            "_model_module_version": "1.5.0",
            "_model_name": "ProgressStyleModel",
            "_view_count": null,
            "_view_module": "@jupyter-widgets/base",
            "_view_module_version": "1.2.0",
            "_view_name": "StyleView",
            "bar_color": null,
            "description_width": ""
          }
        },
        "a7c991e8dbd64c53b760bef90b2680b4": {
          "model_module": "@jupyter-widgets/base",
          "model_name": "LayoutModel",
          "model_module_version": "1.2.0",
          "state": {
            "_model_module": "@jupyter-widgets/base",
            "_model_module_version": "1.2.0",
            "_model_name": "LayoutModel",
            "_view_count": null,
            "_view_module": "@jupyter-widgets/base",
            "_view_module_version": "1.2.0",
            "_view_name": "LayoutView",
            "align_content": null,
            "align_items": null,
            "align_self": null,
            "border": null,
            "bottom": null,
            "display": null,
            "flex": null,
            "flex_flow": null,
            "grid_area": null,
            "grid_auto_columns": null,
            "grid_auto_flow": null,
            "grid_auto_rows": null,
            "grid_column": null,
            "grid_gap": null,
            "grid_row": null,
            "grid_template_areas": null,
            "grid_template_columns": null,
            "grid_template_rows": null,
            "height": null,
            "justify_content": null,
            "justify_items": null,
            "left": null,
            "margin": null,
            "max_height": null,
            "max_width": null,
            "min_height": null,
            "min_width": null,
            "object_fit": null,
            "object_position": null,
            "order": null,
            "overflow": null,
            "overflow_x": null,
            "overflow_y": null,
            "padding": null,
            "right": null,
            "top": null,
            "visibility": null,
            "width": null
          }
        },
        "13763bbcc78245a6826351e38351894b": {
          "model_module": "@jupyter-widgets/controls",
          "model_name": "DescriptionStyleModel",
          "model_module_version": "1.5.0",
          "state": {
            "_model_module": "@jupyter-widgets/controls",
            "_model_module_version": "1.5.0",
            "_model_name": "DescriptionStyleModel",
            "_view_count": null,
            "_view_module": "@jupyter-widgets/base",
            "_view_module_version": "1.2.0",
            "_view_name": "StyleView",
            "description_width": ""
          }
        },
        "f4554fa740bc49ae8d3c8c38f4cf0de0": {
          "model_module": "@jupyter-widgets/controls",
          "model_name": "HBoxModel",
          "model_module_version": "1.5.0",
          "state": {
            "_dom_classes": [],
            "_model_module": "@jupyter-widgets/controls",
            "_model_module_version": "1.5.0",
            "_model_name": "HBoxModel",
            "_view_count": null,
            "_view_module": "@jupyter-widgets/controls",
            "_view_module_version": "1.5.0",
            "_view_name": "HBoxView",
            "box_style": "",
            "children": [
              "IPY_MODEL_52bb5727b1454bf4a716702ea852c076",
              "IPY_MODEL_00975042b5634d8aac50b114ee5684bc",
              "IPY_MODEL_c7e34e246cf24e448bb20c139c92422a"
            ],
            "layout": "IPY_MODEL_55d14b305ad54f33bbecf85f07874b17"
          }
        },
        "52bb5727b1454bf4a716702ea852c076": {
          "model_module": "@jupyter-widgets/controls",
          "model_name": "HTMLModel",
          "model_module_version": "1.5.0",
          "state": {
            "_dom_classes": [],
            "_model_module": "@jupyter-widgets/controls",
            "_model_module_version": "1.5.0",
            "_model_name": "HTMLModel",
            "_view_count": null,
            "_view_module": "@jupyter-widgets/controls",
            "_view_module_version": "1.5.0",
            "_view_name": "HTMLView",
            "description": "",
            "description_tooltip": null,
            "layout": "IPY_MODEL_656956ea6b64481691759fdc6a87c3ac",
            "placeholder": "​",
            "style": "IPY_MODEL_3c3f7570a5454a5b9eec63e4276503b7",
            "value": "vocab.txt: 100%"
          }
        },
        "00975042b5634d8aac50b114ee5684bc": {
          "model_module": "@jupyter-widgets/controls",
          "model_name": "FloatProgressModel",
          "model_module_version": "1.5.0",
          "state": {
            "_dom_classes": [],
            "_model_module": "@jupyter-widgets/controls",
            "_model_module_version": "1.5.0",
            "_model_name": "FloatProgressModel",
            "_view_count": null,
            "_view_module": "@jupyter-widgets/controls",
            "_view_module_version": "1.5.0",
            "_view_name": "ProgressView",
            "bar_style": "success",
            "description": "",
            "description_tooltip": null,
            "layout": "IPY_MODEL_1b13f4d96b8c468982f62bd5be4309fb",
            "max": 231508,
            "min": 0,
            "orientation": "horizontal",
            "style": "IPY_MODEL_339b1ccf2ded494280f395003cc8689d",
            "value": 231508
          }
        },
        "c7e34e246cf24e448bb20c139c92422a": {
          "model_module": "@jupyter-widgets/controls",
          "model_name": "HTMLModel",
          "model_module_version": "1.5.0",
          "state": {
            "_dom_classes": [],
            "_model_module": "@jupyter-widgets/controls",
            "_model_module_version": "1.5.0",
            "_model_name": "HTMLModel",
            "_view_count": null,
            "_view_module": "@jupyter-widgets/controls",
            "_view_module_version": "1.5.0",
            "_view_name": "HTMLView",
            "description": "",
            "description_tooltip": null,
            "layout": "IPY_MODEL_6f4663367dba4ac48d70660c919f0ef6",
            "placeholder": "​",
            "style": "IPY_MODEL_b6b967babb6d44b7b114205761e79609",
            "value": " 232k/232k [00:00&lt;00:00, 4.04MB/s]"
          }
        },
        "55d14b305ad54f33bbecf85f07874b17": {
          "model_module": "@jupyter-widgets/base",
          "model_name": "LayoutModel",
          "model_module_version": "1.2.0",
          "state": {
            "_model_module": "@jupyter-widgets/base",
            "_model_module_version": "1.2.0",
            "_model_name": "LayoutModel",
            "_view_count": null,
            "_view_module": "@jupyter-widgets/base",
            "_view_module_version": "1.2.0",
            "_view_name": "LayoutView",
            "align_content": null,
            "align_items": null,
            "align_self": null,
            "border": null,
            "bottom": null,
            "display": null,
            "flex": null,
            "flex_flow": null,
            "grid_area": null,
            "grid_auto_columns": null,
            "grid_auto_flow": null,
            "grid_auto_rows": null,
            "grid_column": null,
            "grid_gap": null,
            "grid_row": null,
            "grid_template_areas": null,
            "grid_template_columns": null,
            "grid_template_rows": null,
            "height": null,
            "justify_content": null,
            "justify_items": null,
            "left": null,
            "margin": null,
            "max_height": null,
            "max_width": null,
            "min_height": null,
            "min_width": null,
            "object_fit": null,
            "object_position": null,
            "order": null,
            "overflow": null,
            "overflow_x": null,
            "overflow_y": null,
            "padding": null,
            "right": null,
            "top": null,
            "visibility": null,
            "width": null
          }
        },
        "656956ea6b64481691759fdc6a87c3ac": {
          "model_module": "@jupyter-widgets/base",
          "model_name": "LayoutModel",
          "model_module_version": "1.2.0",
          "state": {
            "_model_module": "@jupyter-widgets/base",
            "_model_module_version": "1.2.0",
            "_model_name": "LayoutModel",
            "_view_count": null,
            "_view_module": "@jupyter-widgets/base",
            "_view_module_version": "1.2.0",
            "_view_name": "LayoutView",
            "align_content": null,
            "align_items": null,
            "align_self": null,
            "border": null,
            "bottom": null,
            "display": null,
            "flex": null,
            "flex_flow": null,
            "grid_area": null,
            "grid_auto_columns": null,
            "grid_auto_flow": null,
            "grid_auto_rows": null,
            "grid_column": null,
            "grid_gap": null,
            "grid_row": null,
            "grid_template_areas": null,
            "grid_template_columns": null,
            "grid_template_rows": null,
            "height": null,
            "justify_content": null,
            "justify_items": null,
            "left": null,
            "margin": null,
            "max_height": null,
            "max_width": null,
            "min_height": null,
            "min_width": null,
            "object_fit": null,
            "object_position": null,
            "order": null,
            "overflow": null,
            "overflow_x": null,
            "overflow_y": null,
            "padding": null,
            "right": null,
            "top": null,
            "visibility": null,
            "width": null
          }
        },
        "3c3f7570a5454a5b9eec63e4276503b7": {
          "model_module": "@jupyter-widgets/controls",
          "model_name": "DescriptionStyleModel",
          "model_module_version": "1.5.0",
          "state": {
            "_model_module": "@jupyter-widgets/controls",
            "_model_module_version": "1.5.0",
            "_model_name": "DescriptionStyleModel",
            "_view_count": null,
            "_view_module": "@jupyter-widgets/base",
            "_view_module_version": "1.2.0",
            "_view_name": "StyleView",
            "description_width": ""
          }
        },
        "1b13f4d96b8c468982f62bd5be4309fb": {
          "model_module": "@jupyter-widgets/base",
          "model_name": "LayoutModel",
          "model_module_version": "1.2.0",
          "state": {
            "_model_module": "@jupyter-widgets/base",
            "_model_module_version": "1.2.0",
            "_model_name": "LayoutModel",
            "_view_count": null,
            "_view_module": "@jupyter-widgets/base",
            "_view_module_version": "1.2.0",
            "_view_name": "LayoutView",
            "align_content": null,
            "align_items": null,
            "align_self": null,
            "border": null,
            "bottom": null,
            "display": null,
            "flex": null,
            "flex_flow": null,
            "grid_area": null,
            "grid_auto_columns": null,
            "grid_auto_flow": null,
            "grid_auto_rows": null,
            "grid_column": null,
            "grid_gap": null,
            "grid_row": null,
            "grid_template_areas": null,
            "grid_template_columns": null,
            "grid_template_rows": null,
            "height": null,
            "justify_content": null,
            "justify_items": null,
            "left": null,
            "margin": null,
            "max_height": null,
            "max_width": null,
            "min_height": null,
            "min_width": null,
            "object_fit": null,
            "object_position": null,
            "order": null,
            "overflow": null,
            "overflow_x": null,
            "overflow_y": null,
            "padding": null,
            "right": null,
            "top": null,
            "visibility": null,
            "width": null
          }
        },
        "339b1ccf2ded494280f395003cc8689d": {
          "model_module": "@jupyter-widgets/controls",
          "model_name": "ProgressStyleModel",
          "model_module_version": "1.5.0",
          "state": {
            "_model_module": "@jupyter-widgets/controls",
            "_model_module_version": "1.5.0",
            "_model_name": "ProgressStyleModel",
            "_view_count": null,
            "_view_module": "@jupyter-widgets/base",
            "_view_module_version": "1.2.0",
            "_view_name": "StyleView",
            "bar_color": null,
            "description_width": ""
          }
        },
        "6f4663367dba4ac48d70660c919f0ef6": {
          "model_module": "@jupyter-widgets/base",
          "model_name": "LayoutModel",
          "model_module_version": "1.2.0",
          "state": {
            "_model_module": "@jupyter-widgets/base",
            "_model_module_version": "1.2.0",
            "_model_name": "LayoutModel",
            "_view_count": null,
            "_view_module": "@jupyter-widgets/base",
            "_view_module_version": "1.2.0",
            "_view_name": "LayoutView",
            "align_content": null,
            "align_items": null,
            "align_self": null,
            "border": null,
            "bottom": null,
            "display": null,
            "flex": null,
            "flex_flow": null,
            "grid_area": null,
            "grid_auto_columns": null,
            "grid_auto_flow": null,
            "grid_auto_rows": null,
            "grid_column": null,
            "grid_gap": null,
            "grid_row": null,
            "grid_template_areas": null,
            "grid_template_columns": null,
            "grid_template_rows": null,
            "height": null,
            "justify_content": null,
            "justify_items": null,
            "left": null,
            "margin": null,
            "max_height": null,
            "max_width": null,
            "min_height": null,
            "min_width": null,
            "object_fit": null,
            "object_position": null,
            "order": null,
            "overflow": null,
            "overflow_x": null,
            "overflow_y": null,
            "padding": null,
            "right": null,
            "top": null,
            "visibility": null,
            "width": null
          }
        },
        "b6b967babb6d44b7b114205761e79609": {
          "model_module": "@jupyter-widgets/controls",
          "model_name": "DescriptionStyleModel",
          "model_module_version": "1.5.0",
          "state": {
            "_model_module": "@jupyter-widgets/controls",
            "_model_module_version": "1.5.0",
            "_model_name": "DescriptionStyleModel",
            "_view_count": null,
            "_view_module": "@jupyter-widgets/base",
            "_view_module_version": "1.2.0",
            "_view_name": "StyleView",
            "description_width": ""
          }
        },
        "b97201e894f94378a7535d62a74a2494": {
          "model_module": "@jupyter-widgets/controls",
          "model_name": "HBoxModel",
          "model_module_version": "1.5.0",
          "state": {
            "_dom_classes": [],
            "_model_module": "@jupyter-widgets/controls",
            "_model_module_version": "1.5.0",
            "_model_name": "HBoxModel",
            "_view_count": null,
            "_view_module": "@jupyter-widgets/controls",
            "_view_module_version": "1.5.0",
            "_view_name": "HBoxView",
            "box_style": "",
            "children": [
              "IPY_MODEL_1611b3d5815644bdafad217c36b0990e",
              "IPY_MODEL_dc7fb5d1813f4968821c3906639b64ad",
              "IPY_MODEL_37cad550decb4930ad24dd9c84b74c6f"
            ],
            "layout": "IPY_MODEL_0f30ee03f8c54389985ff5e01f231f69"
          }
        },
        "1611b3d5815644bdafad217c36b0990e": {
          "model_module": "@jupyter-widgets/controls",
          "model_name": "HTMLModel",
          "model_module_version": "1.5.0",
          "state": {
            "_dom_classes": [],
            "_model_module": "@jupyter-widgets/controls",
            "_model_module_version": "1.5.0",
            "_model_name": "HTMLModel",
            "_view_count": null,
            "_view_module": "@jupyter-widgets/controls",
            "_view_module_version": "1.5.0",
            "_view_name": "HTMLView",
            "description": "",
            "description_tooltip": null,
            "layout": "IPY_MODEL_cb94825a06854410a20c038ce5ce037e",
            "placeholder": "​",
            "style": "IPY_MODEL_1e1c3bca691c4aa9a5e09d8cf91878b4",
            "value": "tokenizer.json: 100%"
          }
        },
        "dc7fb5d1813f4968821c3906639b64ad": {
          "model_module": "@jupyter-widgets/controls",
          "model_name": "FloatProgressModel",
          "model_module_version": "1.5.0",
          "state": {
            "_dom_classes": [],
            "_model_module": "@jupyter-widgets/controls",
            "_model_module_version": "1.5.0",
            "_model_name": "FloatProgressModel",
            "_view_count": null,
            "_view_module": "@jupyter-widgets/controls",
            "_view_module_version": "1.5.0",
            "_view_name": "ProgressView",
            "bar_style": "success",
            "description": "",
            "description_tooltip": null,
            "layout": "IPY_MODEL_9b0f337bad1945d0bb8ca0ed03090ba3",
            "max": 466062,
            "min": 0,
            "orientation": "horizontal",
            "style": "IPY_MODEL_9d8765169ffc4f1791420abfd942f680",
            "value": 466062
          }
        },
        "37cad550decb4930ad24dd9c84b74c6f": {
          "model_module": "@jupyter-widgets/controls",
          "model_name": "HTMLModel",
          "model_module_version": "1.5.0",
          "state": {
            "_dom_classes": [],
            "_model_module": "@jupyter-widgets/controls",
            "_model_module_version": "1.5.0",
            "_model_name": "HTMLModel",
            "_view_count": null,
            "_view_module": "@jupyter-widgets/controls",
            "_view_module_version": "1.5.0",
            "_view_name": "HTMLView",
            "description": "",
            "description_tooltip": null,
            "layout": "IPY_MODEL_13b8c8020332476eae4f945b1ebe5a1d",
            "placeholder": "​",
            "style": "IPY_MODEL_6cfae53cdebe4e58a7d81c428d01331f",
            "value": " 466k/466k [00:00&lt;00:00, 5.19MB/s]"
          }
        },
        "0f30ee03f8c54389985ff5e01f231f69": {
          "model_module": "@jupyter-widgets/base",
          "model_name": "LayoutModel",
          "model_module_version": "1.2.0",
          "state": {
            "_model_module": "@jupyter-widgets/base",
            "_model_module_version": "1.2.0",
            "_model_name": "LayoutModel",
            "_view_count": null,
            "_view_module": "@jupyter-widgets/base",
            "_view_module_version": "1.2.0",
            "_view_name": "LayoutView",
            "align_content": null,
            "align_items": null,
            "align_self": null,
            "border": null,
            "bottom": null,
            "display": null,
            "flex": null,
            "flex_flow": null,
            "grid_area": null,
            "grid_auto_columns": null,
            "grid_auto_flow": null,
            "grid_auto_rows": null,
            "grid_column": null,
            "grid_gap": null,
            "grid_row": null,
            "grid_template_areas": null,
            "grid_template_columns": null,
            "grid_template_rows": null,
            "height": null,
            "justify_content": null,
            "justify_items": null,
            "left": null,
            "margin": null,
            "max_height": null,
            "max_width": null,
            "min_height": null,
            "min_width": null,
            "object_fit": null,
            "object_position": null,
            "order": null,
            "overflow": null,
            "overflow_x": null,
            "overflow_y": null,
            "padding": null,
            "right": null,
            "top": null,
            "visibility": null,
            "width": null
          }
        },
        "cb94825a06854410a20c038ce5ce037e": {
          "model_module": "@jupyter-widgets/base",
          "model_name": "LayoutModel",
          "model_module_version": "1.2.0",
          "state": {
            "_model_module": "@jupyter-widgets/base",
            "_model_module_version": "1.2.0",
            "_model_name": "LayoutModel",
            "_view_count": null,
            "_view_module": "@jupyter-widgets/base",
            "_view_module_version": "1.2.0",
            "_view_name": "LayoutView",
            "align_content": null,
            "align_items": null,
            "align_self": null,
            "border": null,
            "bottom": null,
            "display": null,
            "flex": null,
            "flex_flow": null,
            "grid_area": null,
            "grid_auto_columns": null,
            "grid_auto_flow": null,
            "grid_auto_rows": null,
            "grid_column": null,
            "grid_gap": null,
            "grid_row": null,
            "grid_template_areas": null,
            "grid_template_columns": null,
            "grid_template_rows": null,
            "height": null,
            "justify_content": null,
            "justify_items": null,
            "left": null,
            "margin": null,
            "max_height": null,
            "max_width": null,
            "min_height": null,
            "min_width": null,
            "object_fit": null,
            "object_position": null,
            "order": null,
            "overflow": null,
            "overflow_x": null,
            "overflow_y": null,
            "padding": null,
            "right": null,
            "top": null,
            "visibility": null,
            "width": null
          }
        },
        "1e1c3bca691c4aa9a5e09d8cf91878b4": {
          "model_module": "@jupyter-widgets/controls",
          "model_name": "DescriptionStyleModel",
          "model_module_version": "1.5.0",
          "state": {
            "_model_module": "@jupyter-widgets/controls",
            "_model_module_version": "1.5.0",
            "_model_name": "DescriptionStyleModel",
            "_view_count": null,
            "_view_module": "@jupyter-widgets/base",
            "_view_module_version": "1.2.0",
            "_view_name": "StyleView",
            "description_width": ""
          }
        },
        "9b0f337bad1945d0bb8ca0ed03090ba3": {
          "model_module": "@jupyter-widgets/base",
          "model_name": "LayoutModel",
          "model_module_version": "1.2.0",
          "state": {
            "_model_module": "@jupyter-widgets/base",
            "_model_module_version": "1.2.0",
            "_model_name": "LayoutModel",
            "_view_count": null,
            "_view_module": "@jupyter-widgets/base",
            "_view_module_version": "1.2.0",
            "_view_name": "LayoutView",
            "align_content": null,
            "align_items": null,
            "align_self": null,
            "border": null,
            "bottom": null,
            "display": null,
            "flex": null,
            "flex_flow": null,
            "grid_area": null,
            "grid_auto_columns": null,
            "grid_auto_flow": null,
            "grid_auto_rows": null,
            "grid_column": null,
            "grid_gap": null,
            "grid_row": null,
            "grid_template_areas": null,
            "grid_template_columns": null,
            "grid_template_rows": null,
            "height": null,
            "justify_content": null,
            "justify_items": null,
            "left": null,
            "margin": null,
            "max_height": null,
            "max_width": null,
            "min_height": null,
            "min_width": null,
            "object_fit": null,
            "object_position": null,
            "order": null,
            "overflow": null,
            "overflow_x": null,
            "overflow_y": null,
            "padding": null,
            "right": null,
            "top": null,
            "visibility": null,
            "width": null
          }
        },
        "9d8765169ffc4f1791420abfd942f680": {
          "model_module": "@jupyter-widgets/controls",
          "model_name": "ProgressStyleModel",
          "model_module_version": "1.5.0",
          "state": {
            "_model_module": "@jupyter-widgets/controls",
            "_model_module_version": "1.5.0",
            "_model_name": "ProgressStyleModel",
            "_view_count": null,
            "_view_module": "@jupyter-widgets/base",
            "_view_module_version": "1.2.0",
            "_view_name": "StyleView",
            "bar_color": null,
            "description_width": ""
          }
        },
        "13b8c8020332476eae4f945b1ebe5a1d": {
          "model_module": "@jupyter-widgets/base",
          "model_name": "LayoutModel",
          "model_module_version": "1.2.0",
          "state": {
            "_model_module": "@jupyter-widgets/base",
            "_model_module_version": "1.2.0",
            "_model_name": "LayoutModel",
            "_view_count": null,
            "_view_module": "@jupyter-widgets/base",
            "_view_module_version": "1.2.0",
            "_view_name": "LayoutView",
            "align_content": null,
            "align_items": null,
            "align_self": null,
            "border": null,
            "bottom": null,
            "display": null,
            "flex": null,
            "flex_flow": null,
            "grid_area": null,
            "grid_auto_columns": null,
            "grid_auto_flow": null,
            "grid_auto_rows": null,
            "grid_column": null,
            "grid_gap": null,
            "grid_row": null,
            "grid_template_areas": null,
            "grid_template_columns": null,
            "grid_template_rows": null,
            "height": null,
            "justify_content": null,
            "justify_items": null,
            "left": null,
            "margin": null,
            "max_height": null,
            "max_width": null,
            "min_height": null,
            "min_width": null,
            "object_fit": null,
            "object_position": null,
            "order": null,
            "overflow": null,
            "overflow_x": null,
            "overflow_y": null,
            "padding": null,
            "right": null,
            "top": null,
            "visibility": null,
            "width": null
          }
        },
        "6cfae53cdebe4e58a7d81c428d01331f": {
          "model_module": "@jupyter-widgets/controls",
          "model_name": "DescriptionStyleModel",
          "model_module_version": "1.5.0",
          "state": {
            "_model_module": "@jupyter-widgets/controls",
            "_model_module_version": "1.5.0",
            "_model_name": "DescriptionStyleModel",
            "_view_count": null,
            "_view_module": "@jupyter-widgets/base",
            "_view_module_version": "1.2.0",
            "_view_name": "StyleView",
            "description_width": ""
          }
        }
      }
    }
  },
  "cells": [
    {
      "cell_type": "markdown",
      "metadata": {
        "id": "view-in-github",
        "colab_type": "text"
      },
      "source": [
        "<a href=\"https://colab.research.google.com/github/Sohaib9920/Transformer_Text_Classification/blob/main/Transformer_Text_Classification.ipynb\" target=\"_parent\"><img src=\"https://colab.research.google.com/assets/colab-badge.svg\" alt=\"Open In Colab\"/></a>"
      ]
    },
    {
      "cell_type": "markdown",
      "source": [
        " **Task: Classify emotions in the twitter messages.**"
      ],
      "metadata": {
        "id": "5SXv9OPw3td4"
      }
    },
    {
      "cell_type": "code",
      "source": [
        "!pip install datasets"
      ],
      "metadata": {
        "id": "-BkHD01cbveu"
      },
      "execution_count": null,
      "outputs": []
    },
    {
      "cell_type": "markdown",
      "source": [
        "# Loading Data"
      ],
      "metadata": {
        "id": "SnKSLk9-bfYR"
      }
    },
    {
      "cell_type": "code",
      "execution_count": 5,
      "metadata": {
        "colab": {
          "base_uri": "https://localhost:8080/"
        },
        "id": "hsCcwAWxacnp",
        "outputId": "62952bef-5e5a-41e5-a349-a6bd119ecd09"
      },
      "outputs": [
        {
          "output_type": "stream",
          "name": "stderr",
          "text": [
            "/usr/local/lib/python3.10/dist-packages/datasets/load.py:1429: FutureWarning: The repository for emotion contains custom code which must be executed to correctly load the dataset. You can inspect the repository content at https://hf.co/datasets/emotion\n",
            "You can avoid this message in future by passing the argument `trust_remote_code=True`.\n",
            "Passing `trust_remote_code=True` will be mandatory to load this dataset from the next major release of `datasets`.\n",
            "  warnings.warn(\n"
          ]
        }
      ],
      "source": [
        "from datasets import load_dataset\n",
        "\n",
        "emotions = load_dataset(\"emotion\")"
      ]
    },
    {
      "cell_type": "code",
      "source": [
        "emotions"
      ],
      "metadata": {
        "colab": {
          "base_uri": "https://localhost:8080/"
        },
        "id": "dXgrMu3AcWcq",
        "outputId": "671c2643-f7fc-4449-d1f4-33bdb2366058"
      },
      "execution_count": 6,
      "outputs": [
        {
          "output_type": "execute_result",
          "data": {
            "text/plain": [
              "DatasetDict({\n",
              "    train: Dataset({\n",
              "        features: ['text', 'label'],\n",
              "        num_rows: 16000\n",
              "    })\n",
              "    validation: Dataset({\n",
              "        features: ['text', 'label'],\n",
              "        num_rows: 2000\n",
              "    })\n",
              "    test: Dataset({\n",
              "        features: ['text', 'label'],\n",
              "        num_rows: 2000\n",
              "    })\n",
              "})"
            ]
          },
          "metadata": {},
          "execution_count": 6
        }
      ]
    },
    {
      "cell_type": "code",
      "source": [
        "train_ds = emotions[\"train\"]\n",
        "train_ds.features"
      ],
      "metadata": {
        "colab": {
          "base_uri": "https://localhost:8080/"
        },
        "id": "9tvebpQbcbBe",
        "outputId": "ec02b348-c10a-4893-fc70-9e6dd3d58099"
      },
      "execution_count": 8,
      "outputs": [
        {
          "output_type": "execute_result",
          "data": {
            "text/plain": [
              "{'text': Value(dtype='string', id=None),\n",
              " 'label': ClassLabel(names=['sadness', 'joy', 'love', 'anger', 'fear', 'surprise'], id=None)}"
            ]
          },
          "metadata": {},
          "execution_count": 8
        }
      ]
    },
    {
      "cell_type": "markdown",
      "source": [
        "\n",
        "\n",
        "---\n",
        "\n",
        "\n",
        "Or If data is available remote or locally then:"
      ],
      "metadata": {
        "id": "6zIr4YjZc8UE"
      }
    },
    {
      "cell_type": "code",
      "source": [
        "dataset_url = \"https://huggingface.co/datasets/transformersbook/emotion-train-split/raw/main/train.txt\"\n",
        "!wget {dataset_url}"
      ],
      "metadata": {
        "colab": {
          "base_uri": "https://localhost:8080/"
        },
        "id": "GRWXrNQBcti0",
        "outputId": "beabf44e-0fa4-4b00-9dd9-2974032cba9b"
      },
      "execution_count": 16,
      "outputs": [
        {
          "output_type": "stream",
          "name": "stdout",
          "text": [
            "--2024-01-24 17:14:09--  https://huggingface.co/datasets/transformersbook/emotion-train-split/raw/main/train.txt\n",
            "Resolving huggingface.co (huggingface.co)... 65.8.243.16, 65.8.243.92, 65.8.243.90, ...\n",
            "Connecting to huggingface.co (huggingface.co)|65.8.243.16|:443... connected.\n",
            "HTTP request sent, awaiting response... 200 OK\n",
            "Length: 1658616 (1.6M) [text/plain]\n",
            "Saving to: ‘train.txt.2’\n",
            "\n",
            "train.txt.2         100%[===================>]   1.58M  7.03MB/s    in 0.2s    \n",
            "\n",
            "2024-01-24 17:14:09 (7.03 MB/s) - ‘train.txt.2’ saved [1658616/1658616]\n",
            "\n"
          ]
        }
      ]
    },
    {
      "cell_type": "code",
      "source": [
        "!head \"train.txt\""
      ],
      "metadata": {
        "colab": {
          "base_uri": "https://localhost:8080/"
        },
        "id": "vjYcN-v4dH6O",
        "outputId": "aa7c1f61-514e-49b4-cf00-2955ba7a03ec"
      },
      "execution_count": 17,
      "outputs": [
        {
          "output_type": "stream",
          "name": "stdout",
          "text": [
            "i didnt feel humiliated;sadness\n",
            "i can go from feeling so hopeless to so damned hopeful just from being around someone who cares and is awake;sadness\n",
            "im grabbing a minute to post i feel greedy wrong;anger\n",
            "i am ever feeling nostalgic about the fireplace i will know that it is still on the property;love\n",
            "i am feeling grouchy;anger\n",
            "ive been feeling a little burdened lately wasnt sure why that was;sadness\n",
            "ive been taking or milligrams or times recommended amount and ive fallen asleep a lot faster but i also feel like so funny;surprise\n",
            "i feel as confused about life as a teenager or as jaded as a year old man;fear\n",
            "i have been with petronas for years i feel that petronas has performed well and made a huge profit;joy\n",
            "i feel romantic too;love\n"
          ]
        }
      ]
    },
    {
      "cell_type": "code",
      "source": [
        "emotions_local = load_dataset(\"csv\", data_files=\"train.txt\", sep=\",\", names=[\"text\", \"label\"])"
      ],
      "metadata": {
        "id": "Xd_uYeXXdh1a"
      },
      "execution_count": 33,
      "outputs": []
    },
    {
      "cell_type": "code",
      "source": [
        "emotions_local"
      ],
      "metadata": {
        "colab": {
          "base_uri": "https://localhost:8080/"
        },
        "id": "P8Nokdp5ejMs",
        "outputId": "874e5f17-e6d7-402f-dc35-646a9039b23d"
      },
      "execution_count": 34,
      "outputs": [
        {
          "output_type": "execute_result",
          "data": {
            "text/plain": [
              "DatasetDict({\n",
              "    train: Dataset({\n",
              "        features: ['text', 'label'],\n",
              "        num_rows: 16000\n",
              "    })\n",
              "})"
            ]
          },
          "metadata": {},
          "execution_count": 34
        }
      ]
    },
    {
      "cell_type": "markdown",
      "source": [
        "OR"
      ],
      "metadata": {
        "id": "EnddeOWzg6xH"
      }
    },
    {
      "cell_type": "code",
      "source": [
        "emotions_local = load_dataset(\"csv\", data_files=dataset_url, sep=\",\", names=[\"text\", \"label\"], split=[\"train[:80%]\", \"train[80%:90%]\", \"train[90%:]\"])"
      ],
      "metadata": {
        "colab": {
          "base_uri": "https://localhost:8080/",
          "height": 81,
          "referenced_widgets": [
            "f5c81b0bd03a4abf86c8ba4ef10b640a",
            "3e77a092dae3442388bc20ed55c85d8f",
            "236f1800118346f28e72c47bf5cb72f9",
            "574553738b894e87b6e58935f2584a21",
            "34287b9ea3af40d8b2114a3d3b12138e",
            "1ae8840e79c44ef681fb521cc8999d17",
            "3b1c5ce16ccf4ba1abdfd2c56e639ac7",
            "56f4b329a5c3478e87aec367d1324eb5",
            "45332daca21541bdb7d96d27b5d25830",
            "57d30601a1c04881b5c6b29e41074a83",
            "7d00009a370c43fe9f61dd8e591e3613",
            "8bb1c473d459409c9668cff9370a3dc5",
            "19ae48f5933e4809af50fa9bbcf33d63",
            "5aebff84778543959ef929733220589f",
            "060c8698959342cebc508ce13b5bc275",
            "f7fa05df56144881953f2d64b50a408b",
            "0746805f5b474d26b5a109dd686996d0",
            "d503e32d04724b85923e69dca27d2cd9",
            "d3dd429a9f5342c58e7124c93e52e33c",
            "128840e83d9f44929ecbf3f570df11f7",
            "c85b1ebe4a1c480593126161db158334",
            "d16e79c25ebe40399702064dda4d7532"
          ]
        },
        "id": "XT3Cb3a1gmwy",
        "outputId": "9c6ddd69-fd8e-43ad-aa3e-53beaef6befd"
      },
      "execution_count": 31,
      "outputs": [
        {
          "output_type": "display_data",
          "data": {
            "text/plain": [
              "Downloading data:   0%|          | 0.00/1.66M [00:00<?, ?B/s]"
            ],
            "application/vnd.jupyter.widget-view+json": {
              "version_major": 2,
              "version_minor": 0,
              "model_id": "f5c81b0bd03a4abf86c8ba4ef10b640a"
            }
          },
          "metadata": {}
        },
        {
          "output_type": "display_data",
          "data": {
            "text/plain": [
              "Generating train split: 0 examples [00:00, ? examples/s]"
            ],
            "application/vnd.jupyter.widget-view+json": {
              "version_major": 2,
              "version_minor": 0,
              "model_id": "8bb1c473d459409c9668cff9370a3dc5"
            }
          },
          "metadata": {}
        }
      ]
    },
    {
      "cell_type": "code",
      "source": [
        "emotions_local"
      ],
      "metadata": {
        "colab": {
          "base_uri": "https://localhost:8080/"
        },
        "id": "8UWFMKqBgilC",
        "outputId": "d8ed08a1-7099-427d-fc69-3f6947488caf"
      },
      "execution_count": 32,
      "outputs": [
        {
          "output_type": "execute_result",
          "data": {
            "text/plain": [
              "[Dataset({\n",
              "     features: ['text', 'label'],\n",
              "     num_rows: 12800\n",
              " }),\n",
              " Dataset({\n",
              "     features: ['text', 'label'],\n",
              "     num_rows: 1600\n",
              " }),\n",
              " Dataset({\n",
              "     features: ['text', 'label'],\n",
              "     num_rows: 1600\n",
              " })]"
            ]
          },
          "metadata": {},
          "execution_count": 32
        }
      ]
    },
    {
      "cell_type": "markdown",
      "source": [
        "\n",
        "\n",
        "---\n",
        "\n"
      ],
      "metadata": {
        "id": "ZN93LrKEhFoz"
      }
    },
    {
      "cell_type": "markdown",
      "source": [
        "# Visualizing the data"
      ],
      "metadata": {
        "id": "uLF26liQivAm"
      }
    },
    {
      "cell_type": "code",
      "source": [
        "emotions.set_format(type=\"pandas\") # Only change the output fromat and not the underlying data format (Arrow Table)\n",
        "df = emotions[\"train\"][:]\n",
        "df.head()"
      ],
      "metadata": {
        "colab": {
          "base_uri": "https://localhost:8080/",
          "height": 206
        },
        "id": "Ahf46j2JhGt4",
        "outputId": "168a55eb-0834-4143-f71b-afe9b97d9b6b"
      },
      "execution_count": 35,
      "outputs": [
        {
          "output_type": "execute_result",
          "data": {
            "text/plain": [
              "                                                text  label\n",
              "0                            i didnt feel humiliated      0\n",
              "1  i can go from feeling so hopeless to so damned...      0\n",
              "2   im grabbing a minute to post i feel greedy wrong      3\n",
              "3  i am ever feeling nostalgic about the fireplac...      2\n",
              "4                               i am feeling grouchy      3"
            ],
            "text/html": [
              "\n",
              "  <div id=\"df-b879a4f1-64ed-43ca-a3bf-b009274f1ce9\" class=\"colab-df-container\">\n",
              "    <div>\n",
              "<style scoped>\n",
              "    .dataframe tbody tr th:only-of-type {\n",
              "        vertical-align: middle;\n",
              "    }\n",
              "\n",
              "    .dataframe tbody tr th {\n",
              "        vertical-align: top;\n",
              "    }\n",
              "\n",
              "    .dataframe thead th {\n",
              "        text-align: right;\n",
              "    }\n",
              "</style>\n",
              "<table border=\"1\" class=\"dataframe\">\n",
              "  <thead>\n",
              "    <tr style=\"text-align: right;\">\n",
              "      <th></th>\n",
              "      <th>text</th>\n",
              "      <th>label</th>\n",
              "    </tr>\n",
              "  </thead>\n",
              "  <tbody>\n",
              "    <tr>\n",
              "      <th>0</th>\n",
              "      <td>i didnt feel humiliated</td>\n",
              "      <td>0</td>\n",
              "    </tr>\n",
              "    <tr>\n",
              "      <th>1</th>\n",
              "      <td>i can go from feeling so hopeless to so damned...</td>\n",
              "      <td>0</td>\n",
              "    </tr>\n",
              "    <tr>\n",
              "      <th>2</th>\n",
              "      <td>im grabbing a minute to post i feel greedy wrong</td>\n",
              "      <td>3</td>\n",
              "    </tr>\n",
              "    <tr>\n",
              "      <th>3</th>\n",
              "      <td>i am ever feeling nostalgic about the fireplac...</td>\n",
              "      <td>2</td>\n",
              "    </tr>\n",
              "    <tr>\n",
              "      <th>4</th>\n",
              "      <td>i am feeling grouchy</td>\n",
              "      <td>3</td>\n",
              "    </tr>\n",
              "  </tbody>\n",
              "</table>\n",
              "</div>\n",
              "    <div class=\"colab-df-buttons\">\n",
              "\n",
              "  <div class=\"colab-df-container\">\n",
              "    <button class=\"colab-df-convert\" onclick=\"convertToInteractive('df-b879a4f1-64ed-43ca-a3bf-b009274f1ce9')\"\n",
              "            title=\"Convert this dataframe to an interactive table.\"\n",
              "            style=\"display:none;\">\n",
              "\n",
              "  <svg xmlns=\"http://www.w3.org/2000/svg\" height=\"24px\" viewBox=\"0 -960 960 960\">\n",
              "    <path d=\"M120-120v-720h720v720H120Zm60-500h600v-160H180v160Zm220 220h160v-160H400v160Zm0 220h160v-160H400v160ZM180-400h160v-160H180v160Zm440 0h160v-160H620v160ZM180-180h160v-160H180v160Zm440 0h160v-160H620v160Z\"/>\n",
              "  </svg>\n",
              "    </button>\n",
              "\n",
              "  <style>\n",
              "    .colab-df-container {\n",
              "      display:flex;\n",
              "      gap: 12px;\n",
              "    }\n",
              "\n",
              "    .colab-df-convert {\n",
              "      background-color: #E8F0FE;\n",
              "      border: none;\n",
              "      border-radius: 50%;\n",
              "      cursor: pointer;\n",
              "      display: none;\n",
              "      fill: #1967D2;\n",
              "      height: 32px;\n",
              "      padding: 0 0 0 0;\n",
              "      width: 32px;\n",
              "    }\n",
              "\n",
              "    .colab-df-convert:hover {\n",
              "      background-color: #E2EBFA;\n",
              "      box-shadow: 0px 1px 2px rgba(60, 64, 67, 0.3), 0px 1px 3px 1px rgba(60, 64, 67, 0.15);\n",
              "      fill: #174EA6;\n",
              "    }\n",
              "\n",
              "    .colab-df-buttons div {\n",
              "      margin-bottom: 4px;\n",
              "    }\n",
              "\n",
              "    [theme=dark] .colab-df-convert {\n",
              "      background-color: #3B4455;\n",
              "      fill: #D2E3FC;\n",
              "    }\n",
              "\n",
              "    [theme=dark] .colab-df-convert:hover {\n",
              "      background-color: #434B5C;\n",
              "      box-shadow: 0px 1px 3px 1px rgba(0, 0, 0, 0.15);\n",
              "      filter: drop-shadow(0px 1px 2px rgba(0, 0, 0, 0.3));\n",
              "      fill: #FFFFFF;\n",
              "    }\n",
              "  </style>\n",
              "\n",
              "    <script>\n",
              "      const buttonEl =\n",
              "        document.querySelector('#df-b879a4f1-64ed-43ca-a3bf-b009274f1ce9 button.colab-df-convert');\n",
              "      buttonEl.style.display =\n",
              "        google.colab.kernel.accessAllowed ? 'block' : 'none';\n",
              "\n",
              "      async function convertToInteractive(key) {\n",
              "        const element = document.querySelector('#df-b879a4f1-64ed-43ca-a3bf-b009274f1ce9');\n",
              "        const dataTable =\n",
              "          await google.colab.kernel.invokeFunction('convertToInteractive',\n",
              "                                                    [key], {});\n",
              "        if (!dataTable) return;\n",
              "\n",
              "        const docLinkHtml = 'Like what you see? Visit the ' +\n",
              "          '<a target=\"_blank\" href=https://colab.research.google.com/notebooks/data_table.ipynb>data table notebook</a>'\n",
              "          + ' to learn more about interactive tables.';\n",
              "        element.innerHTML = '';\n",
              "        dataTable['output_type'] = 'display_data';\n",
              "        await google.colab.output.renderOutput(dataTable, element);\n",
              "        const docLink = document.createElement('div');\n",
              "        docLink.innerHTML = docLinkHtml;\n",
              "        element.appendChild(docLink);\n",
              "      }\n",
              "    </script>\n",
              "  </div>\n",
              "\n",
              "\n",
              "<div id=\"df-1f6f38e2-58b9-4c19-91b5-7eb211d75efb\">\n",
              "  <button class=\"colab-df-quickchart\" onclick=\"quickchart('df-1f6f38e2-58b9-4c19-91b5-7eb211d75efb')\"\n",
              "            title=\"Suggest charts\"\n",
              "            style=\"display:none;\">\n",
              "\n",
              "<svg xmlns=\"http://www.w3.org/2000/svg\" height=\"24px\"viewBox=\"0 0 24 24\"\n",
              "     width=\"24px\">\n",
              "    <g>\n",
              "        <path d=\"M19 3H5c-1.1 0-2 .9-2 2v14c0 1.1.9 2 2 2h14c1.1 0 2-.9 2-2V5c0-1.1-.9-2-2-2zM9 17H7v-7h2v7zm4 0h-2V7h2v10zm4 0h-2v-4h2v4z\"/>\n",
              "    </g>\n",
              "</svg>\n",
              "  </button>\n",
              "\n",
              "<style>\n",
              "  .colab-df-quickchart {\n",
              "      --bg-color: #E8F0FE;\n",
              "      --fill-color: #1967D2;\n",
              "      --hover-bg-color: #E2EBFA;\n",
              "      --hover-fill-color: #174EA6;\n",
              "      --disabled-fill-color: #AAA;\n",
              "      --disabled-bg-color: #DDD;\n",
              "  }\n",
              "\n",
              "  [theme=dark] .colab-df-quickchart {\n",
              "      --bg-color: #3B4455;\n",
              "      --fill-color: #D2E3FC;\n",
              "      --hover-bg-color: #434B5C;\n",
              "      --hover-fill-color: #FFFFFF;\n",
              "      --disabled-bg-color: #3B4455;\n",
              "      --disabled-fill-color: #666;\n",
              "  }\n",
              "\n",
              "  .colab-df-quickchart {\n",
              "    background-color: var(--bg-color);\n",
              "    border: none;\n",
              "    border-radius: 50%;\n",
              "    cursor: pointer;\n",
              "    display: none;\n",
              "    fill: var(--fill-color);\n",
              "    height: 32px;\n",
              "    padding: 0;\n",
              "    width: 32px;\n",
              "  }\n",
              "\n",
              "  .colab-df-quickchart:hover {\n",
              "    background-color: var(--hover-bg-color);\n",
              "    box-shadow: 0 1px 2px rgba(60, 64, 67, 0.3), 0 1px 3px 1px rgba(60, 64, 67, 0.15);\n",
              "    fill: var(--button-hover-fill-color);\n",
              "  }\n",
              "\n",
              "  .colab-df-quickchart-complete:disabled,\n",
              "  .colab-df-quickchart-complete:disabled:hover {\n",
              "    background-color: var(--disabled-bg-color);\n",
              "    fill: var(--disabled-fill-color);\n",
              "    box-shadow: none;\n",
              "  }\n",
              "\n",
              "  .colab-df-spinner {\n",
              "    border: 2px solid var(--fill-color);\n",
              "    border-color: transparent;\n",
              "    border-bottom-color: var(--fill-color);\n",
              "    animation:\n",
              "      spin 1s steps(1) infinite;\n",
              "  }\n",
              "\n",
              "  @keyframes spin {\n",
              "    0% {\n",
              "      border-color: transparent;\n",
              "      border-bottom-color: var(--fill-color);\n",
              "      border-left-color: var(--fill-color);\n",
              "    }\n",
              "    20% {\n",
              "      border-color: transparent;\n",
              "      border-left-color: var(--fill-color);\n",
              "      border-top-color: var(--fill-color);\n",
              "    }\n",
              "    30% {\n",
              "      border-color: transparent;\n",
              "      border-left-color: var(--fill-color);\n",
              "      border-top-color: var(--fill-color);\n",
              "      border-right-color: var(--fill-color);\n",
              "    }\n",
              "    40% {\n",
              "      border-color: transparent;\n",
              "      border-right-color: var(--fill-color);\n",
              "      border-top-color: var(--fill-color);\n",
              "    }\n",
              "    60% {\n",
              "      border-color: transparent;\n",
              "      border-right-color: var(--fill-color);\n",
              "    }\n",
              "    80% {\n",
              "      border-color: transparent;\n",
              "      border-right-color: var(--fill-color);\n",
              "      border-bottom-color: var(--fill-color);\n",
              "    }\n",
              "    90% {\n",
              "      border-color: transparent;\n",
              "      border-bottom-color: var(--fill-color);\n",
              "    }\n",
              "  }\n",
              "</style>\n",
              "\n",
              "  <script>\n",
              "    async function quickchart(key) {\n",
              "      const quickchartButtonEl =\n",
              "        document.querySelector('#' + key + ' button');\n",
              "      quickchartButtonEl.disabled = true;  // To prevent multiple clicks.\n",
              "      quickchartButtonEl.classList.add('colab-df-spinner');\n",
              "      try {\n",
              "        const charts = await google.colab.kernel.invokeFunction(\n",
              "            'suggestCharts', [key], {});\n",
              "      } catch (error) {\n",
              "        console.error('Error during call to suggestCharts:', error);\n",
              "      }\n",
              "      quickchartButtonEl.classList.remove('colab-df-spinner');\n",
              "      quickchartButtonEl.classList.add('colab-df-quickchart-complete');\n",
              "    }\n",
              "    (() => {\n",
              "      let quickchartButtonEl =\n",
              "        document.querySelector('#df-1f6f38e2-58b9-4c19-91b5-7eb211d75efb button');\n",
              "      quickchartButtonEl.style.display =\n",
              "        google.colab.kernel.accessAllowed ? 'block' : 'none';\n",
              "    })();\n",
              "  </script>\n",
              "</div>\n",
              "\n",
              "    </div>\n",
              "  </div>\n"
            ]
          },
          "metadata": {},
          "execution_count": 35
        }
      ]
    },
    {
      "cell_type": "code",
      "source": [
        "class_labels = emotions[\"train\"].features[\"label\"]\n",
        "class_labels"
      ],
      "metadata": {
        "colab": {
          "base_uri": "https://localhost:8080/"
        },
        "id": "qpnDPmuQjjnP",
        "outputId": "1684e904-41c8-4386-ac1c-e9f8684cc6ec"
      },
      "execution_count": 38,
      "outputs": [
        {
          "output_type": "execute_result",
          "data": {
            "text/plain": [
              "ClassLabel(names=['sadness', 'joy', 'love', 'anger', 'fear', 'surprise'], id=None)"
            ]
          },
          "metadata": {},
          "execution_count": 38
        }
      ]
    },
    {
      "cell_type": "code",
      "source": [
        "df[\"label_name\"] = df[\"label\"].apply(lambda x: class_labels.int2str(x))\n",
        "df.head()"
      ],
      "metadata": {
        "colab": {
          "base_uri": "https://localhost:8080/",
          "height": 206
        },
        "id": "s3mBF8DBjHK3",
        "outputId": "18171100-5c83-4a0c-a563-9e9cef8481db"
      },
      "execution_count": 39,
      "outputs": [
        {
          "output_type": "execute_result",
          "data": {
            "text/plain": [
              "                                                text  label label_name\n",
              "0                            i didnt feel humiliated      0    sadness\n",
              "1  i can go from feeling so hopeless to so damned...      0    sadness\n",
              "2   im grabbing a minute to post i feel greedy wrong      3      anger\n",
              "3  i am ever feeling nostalgic about the fireplac...      2       love\n",
              "4                               i am feeling grouchy      3      anger"
            ],
            "text/html": [
              "\n",
              "  <div id=\"df-bdaa372f-b873-4d4e-8749-82d8802f2f79\" class=\"colab-df-container\">\n",
              "    <div>\n",
              "<style scoped>\n",
              "    .dataframe tbody tr th:only-of-type {\n",
              "        vertical-align: middle;\n",
              "    }\n",
              "\n",
              "    .dataframe tbody tr th {\n",
              "        vertical-align: top;\n",
              "    }\n",
              "\n",
              "    .dataframe thead th {\n",
              "        text-align: right;\n",
              "    }\n",
              "</style>\n",
              "<table border=\"1\" class=\"dataframe\">\n",
              "  <thead>\n",
              "    <tr style=\"text-align: right;\">\n",
              "      <th></th>\n",
              "      <th>text</th>\n",
              "      <th>label</th>\n",
              "      <th>label_name</th>\n",
              "    </tr>\n",
              "  </thead>\n",
              "  <tbody>\n",
              "    <tr>\n",
              "      <th>0</th>\n",
              "      <td>i didnt feel humiliated</td>\n",
              "      <td>0</td>\n",
              "      <td>sadness</td>\n",
              "    </tr>\n",
              "    <tr>\n",
              "      <th>1</th>\n",
              "      <td>i can go from feeling so hopeless to so damned...</td>\n",
              "      <td>0</td>\n",
              "      <td>sadness</td>\n",
              "    </tr>\n",
              "    <tr>\n",
              "      <th>2</th>\n",
              "      <td>im grabbing a minute to post i feel greedy wrong</td>\n",
              "      <td>3</td>\n",
              "      <td>anger</td>\n",
              "    </tr>\n",
              "    <tr>\n",
              "      <th>3</th>\n",
              "      <td>i am ever feeling nostalgic about the fireplac...</td>\n",
              "      <td>2</td>\n",
              "      <td>love</td>\n",
              "    </tr>\n",
              "    <tr>\n",
              "      <th>4</th>\n",
              "      <td>i am feeling grouchy</td>\n",
              "      <td>3</td>\n",
              "      <td>anger</td>\n",
              "    </tr>\n",
              "  </tbody>\n",
              "</table>\n",
              "</div>\n",
              "    <div class=\"colab-df-buttons\">\n",
              "\n",
              "  <div class=\"colab-df-container\">\n",
              "    <button class=\"colab-df-convert\" onclick=\"convertToInteractive('df-bdaa372f-b873-4d4e-8749-82d8802f2f79')\"\n",
              "            title=\"Convert this dataframe to an interactive table.\"\n",
              "            style=\"display:none;\">\n",
              "\n",
              "  <svg xmlns=\"http://www.w3.org/2000/svg\" height=\"24px\" viewBox=\"0 -960 960 960\">\n",
              "    <path d=\"M120-120v-720h720v720H120Zm60-500h600v-160H180v160Zm220 220h160v-160H400v160Zm0 220h160v-160H400v160ZM180-400h160v-160H180v160Zm440 0h160v-160H620v160ZM180-180h160v-160H180v160Zm440 0h160v-160H620v160Z\"/>\n",
              "  </svg>\n",
              "    </button>\n",
              "\n",
              "  <style>\n",
              "    .colab-df-container {\n",
              "      display:flex;\n",
              "      gap: 12px;\n",
              "    }\n",
              "\n",
              "    .colab-df-convert {\n",
              "      background-color: #E8F0FE;\n",
              "      border: none;\n",
              "      border-radius: 50%;\n",
              "      cursor: pointer;\n",
              "      display: none;\n",
              "      fill: #1967D2;\n",
              "      height: 32px;\n",
              "      padding: 0 0 0 0;\n",
              "      width: 32px;\n",
              "    }\n",
              "\n",
              "    .colab-df-convert:hover {\n",
              "      background-color: #E2EBFA;\n",
              "      box-shadow: 0px 1px 2px rgba(60, 64, 67, 0.3), 0px 1px 3px 1px rgba(60, 64, 67, 0.15);\n",
              "      fill: #174EA6;\n",
              "    }\n",
              "\n",
              "    .colab-df-buttons div {\n",
              "      margin-bottom: 4px;\n",
              "    }\n",
              "\n",
              "    [theme=dark] .colab-df-convert {\n",
              "      background-color: #3B4455;\n",
              "      fill: #D2E3FC;\n",
              "    }\n",
              "\n",
              "    [theme=dark] .colab-df-convert:hover {\n",
              "      background-color: #434B5C;\n",
              "      box-shadow: 0px 1px 3px 1px rgba(0, 0, 0, 0.15);\n",
              "      filter: drop-shadow(0px 1px 2px rgba(0, 0, 0, 0.3));\n",
              "      fill: #FFFFFF;\n",
              "    }\n",
              "  </style>\n",
              "\n",
              "    <script>\n",
              "      const buttonEl =\n",
              "        document.querySelector('#df-bdaa372f-b873-4d4e-8749-82d8802f2f79 button.colab-df-convert');\n",
              "      buttonEl.style.display =\n",
              "        google.colab.kernel.accessAllowed ? 'block' : 'none';\n",
              "\n",
              "      async function convertToInteractive(key) {\n",
              "        const element = document.querySelector('#df-bdaa372f-b873-4d4e-8749-82d8802f2f79');\n",
              "        const dataTable =\n",
              "          await google.colab.kernel.invokeFunction('convertToInteractive',\n",
              "                                                    [key], {});\n",
              "        if (!dataTable) return;\n",
              "\n",
              "        const docLinkHtml = 'Like what you see? Visit the ' +\n",
              "          '<a target=\"_blank\" href=https://colab.research.google.com/notebooks/data_table.ipynb>data table notebook</a>'\n",
              "          + ' to learn more about interactive tables.';\n",
              "        element.innerHTML = '';\n",
              "        dataTable['output_type'] = 'display_data';\n",
              "        await google.colab.output.renderOutput(dataTable, element);\n",
              "        const docLink = document.createElement('div');\n",
              "        docLink.innerHTML = docLinkHtml;\n",
              "        element.appendChild(docLink);\n",
              "      }\n",
              "    </script>\n",
              "  </div>\n",
              "\n",
              "\n",
              "<div id=\"df-9b952b05-e9aa-41b4-8e63-1c66e83bd111\">\n",
              "  <button class=\"colab-df-quickchart\" onclick=\"quickchart('df-9b952b05-e9aa-41b4-8e63-1c66e83bd111')\"\n",
              "            title=\"Suggest charts\"\n",
              "            style=\"display:none;\">\n",
              "\n",
              "<svg xmlns=\"http://www.w3.org/2000/svg\" height=\"24px\"viewBox=\"0 0 24 24\"\n",
              "     width=\"24px\">\n",
              "    <g>\n",
              "        <path d=\"M19 3H5c-1.1 0-2 .9-2 2v14c0 1.1.9 2 2 2h14c1.1 0 2-.9 2-2V5c0-1.1-.9-2-2-2zM9 17H7v-7h2v7zm4 0h-2V7h2v10zm4 0h-2v-4h2v4z\"/>\n",
              "    </g>\n",
              "</svg>\n",
              "  </button>\n",
              "\n",
              "<style>\n",
              "  .colab-df-quickchart {\n",
              "      --bg-color: #E8F0FE;\n",
              "      --fill-color: #1967D2;\n",
              "      --hover-bg-color: #E2EBFA;\n",
              "      --hover-fill-color: #174EA6;\n",
              "      --disabled-fill-color: #AAA;\n",
              "      --disabled-bg-color: #DDD;\n",
              "  }\n",
              "\n",
              "  [theme=dark] .colab-df-quickchart {\n",
              "      --bg-color: #3B4455;\n",
              "      --fill-color: #D2E3FC;\n",
              "      --hover-bg-color: #434B5C;\n",
              "      --hover-fill-color: #FFFFFF;\n",
              "      --disabled-bg-color: #3B4455;\n",
              "      --disabled-fill-color: #666;\n",
              "  }\n",
              "\n",
              "  .colab-df-quickchart {\n",
              "    background-color: var(--bg-color);\n",
              "    border: none;\n",
              "    border-radius: 50%;\n",
              "    cursor: pointer;\n",
              "    display: none;\n",
              "    fill: var(--fill-color);\n",
              "    height: 32px;\n",
              "    padding: 0;\n",
              "    width: 32px;\n",
              "  }\n",
              "\n",
              "  .colab-df-quickchart:hover {\n",
              "    background-color: var(--hover-bg-color);\n",
              "    box-shadow: 0 1px 2px rgba(60, 64, 67, 0.3), 0 1px 3px 1px rgba(60, 64, 67, 0.15);\n",
              "    fill: var(--button-hover-fill-color);\n",
              "  }\n",
              "\n",
              "  .colab-df-quickchart-complete:disabled,\n",
              "  .colab-df-quickchart-complete:disabled:hover {\n",
              "    background-color: var(--disabled-bg-color);\n",
              "    fill: var(--disabled-fill-color);\n",
              "    box-shadow: none;\n",
              "  }\n",
              "\n",
              "  .colab-df-spinner {\n",
              "    border: 2px solid var(--fill-color);\n",
              "    border-color: transparent;\n",
              "    border-bottom-color: var(--fill-color);\n",
              "    animation:\n",
              "      spin 1s steps(1) infinite;\n",
              "  }\n",
              "\n",
              "  @keyframes spin {\n",
              "    0% {\n",
              "      border-color: transparent;\n",
              "      border-bottom-color: var(--fill-color);\n",
              "      border-left-color: var(--fill-color);\n",
              "    }\n",
              "    20% {\n",
              "      border-color: transparent;\n",
              "      border-left-color: var(--fill-color);\n",
              "      border-top-color: var(--fill-color);\n",
              "    }\n",
              "    30% {\n",
              "      border-color: transparent;\n",
              "      border-left-color: var(--fill-color);\n",
              "      border-top-color: var(--fill-color);\n",
              "      border-right-color: var(--fill-color);\n",
              "    }\n",
              "    40% {\n",
              "      border-color: transparent;\n",
              "      border-right-color: var(--fill-color);\n",
              "      border-top-color: var(--fill-color);\n",
              "    }\n",
              "    60% {\n",
              "      border-color: transparent;\n",
              "      border-right-color: var(--fill-color);\n",
              "    }\n",
              "    80% {\n",
              "      border-color: transparent;\n",
              "      border-right-color: var(--fill-color);\n",
              "      border-bottom-color: var(--fill-color);\n",
              "    }\n",
              "    90% {\n",
              "      border-color: transparent;\n",
              "      border-bottom-color: var(--fill-color);\n",
              "    }\n",
              "  }\n",
              "</style>\n",
              "\n",
              "  <script>\n",
              "    async function quickchart(key) {\n",
              "      const quickchartButtonEl =\n",
              "        document.querySelector('#' + key + ' button');\n",
              "      quickchartButtonEl.disabled = true;  // To prevent multiple clicks.\n",
              "      quickchartButtonEl.classList.add('colab-df-spinner');\n",
              "      try {\n",
              "        const charts = await google.colab.kernel.invokeFunction(\n",
              "            'suggestCharts', [key], {});\n",
              "      } catch (error) {\n",
              "        console.error('Error during call to suggestCharts:', error);\n",
              "      }\n",
              "      quickchartButtonEl.classList.remove('colab-df-spinner');\n",
              "      quickchartButtonEl.classList.add('colab-df-quickchart-complete');\n",
              "    }\n",
              "    (() => {\n",
              "      let quickchartButtonEl =\n",
              "        document.querySelector('#df-9b952b05-e9aa-41b4-8e63-1c66e83bd111 button');\n",
              "      quickchartButtonEl.style.display =\n",
              "        google.colab.kernel.accessAllowed ? 'block' : 'none';\n",
              "    })();\n",
              "  </script>\n",
              "</div>\n",
              "\n",
              "    </div>\n",
              "  </div>\n"
            ]
          },
          "metadata": {},
          "execution_count": 39
        }
      ]
    },
    {
      "cell_type": "code",
      "source": [
        "df[\"label_name\"].value_counts(ascending=True).plot.barh();"
      ],
      "metadata": {
        "colab": {
          "base_uri": "https://localhost:8080/",
          "height": 430
        },
        "id": "OD53rBt6j-FE",
        "outputId": "2a0accfe-f799-4153-ffaf-164190d41deb"
      },
      "execution_count": 43,
      "outputs": [
        {
          "output_type": "display_data",
          "data": {
            "text/plain": [
              "<Figure size 640x480 with 1 Axes>"
            ],
            "image/png": "[encoded data removed]"
          },
          "metadata": {}
        }
      ]
    },
    {
      "cell_type": "markdown",
      "source": [
        "Transformer models have a maximum input sequence length that is referred to as the\n",
        "maximum context size. **For applications using DistilBERT, the maximum context size is 512 tokens**. Lets get an estimate of how long are our tweets"
      ],
      "metadata": {
        "id": "Yt_05zk7kyi6"
      }
    },
    {
      "cell_type": "code",
      "source": [
        "df[\"Words Per Tweet\"] = df[\"text\"].str.split().apply(len)\n",
        "df.head()"
      ],
      "metadata": {
        "colab": {
          "base_uri": "https://localhost:8080/",
          "height": 206
        },
        "id": "3tAKfptHkNGw",
        "outputId": "146ec825-7297-4da7-9d3f-99fbb7675dde"
      },
      "execution_count": 57,
      "outputs": [
        {
          "output_type": "execute_result",
          "data": {
            "text/plain": [
              "                                                text  label label_name  Words Per Tweet\n",
              "0                            i didnt feel humiliated      0    sadness                4\n",
              "1  i can go from feeling so hopeless to so damned...      0    sadness               21\n",
              "2   im grabbing a minute to post i feel greedy wrong      3      anger               10\n",
              "3  i am ever feeling nostalgic about the fireplac...      2       love               18\n",
              "4                               i am feeling grouchy      3      anger                4"
            ],
            "text/html": [
              "\n",
              "  <div id=\"df-fe80c51f-330e-494d-9c60-02ad39f55c08\" class=\"colab-df-container\">\n",
              "    <div>\n",
              "<style scoped>\n",
              "    .dataframe tbody tr th:only-of-type {\n",
              "        vertical-align: middle;\n",
              "    }\n",
              "\n",
              "    .dataframe tbody tr th {\n",
              "        vertical-align: top;\n",
              "    }\n",
              "\n",
              "    .dataframe thead th {\n",
              "        text-align: right;\n",
              "    }\n",
              "</style>\n",
              "<table border=\"1\" class=\"dataframe\">\n",
              "  <thead>\n",
              "    <tr style=\"text-align: right;\">\n",
              "      <th></th>\n",
              "      <th>text</th>\n",
              "      <th>label</th>\n",
              "      <th>label_name</th>\n",
              "      <th>Words Per Tweet</th>\n",
              "    </tr>\n",
              "  </thead>\n",
              "  <tbody>\n",
              "    <tr>\n",
              "      <th>0</th>\n",
              "      <td>i didnt feel humiliated</td>\n",
              "      <td>0</td>\n",
              "      <td>sadness</td>\n",
              "      <td>4</td>\n",
              "    </tr>\n",
              "    <tr>\n",
              "      <th>1</th>\n",
              "      <td>i can go from feeling so hopeless to so damned...</td>\n",
              "      <td>0</td>\n",
              "      <td>sadness</td>\n",
              "      <td>21</td>\n",
              "    </tr>\n",
              "    <tr>\n",
              "      <th>2</th>\n",
              "      <td>im grabbing a minute to post i feel greedy wrong</td>\n",
              "      <td>3</td>\n",
              "      <td>anger</td>\n",
              "      <td>10</td>\n",
              "    </tr>\n",
              "    <tr>\n",
              "      <th>3</th>\n",
              "      <td>i am ever feeling nostalgic about the fireplac...</td>\n",
              "      <td>2</td>\n",
              "      <td>love</td>\n",
              "      <td>18</td>\n",
              "    </tr>\n",
              "    <tr>\n",
              "      <th>4</th>\n",
              "      <td>i am feeling grouchy</td>\n",
              "      <td>3</td>\n",
              "      <td>anger</td>\n",
              "      <td>4</td>\n",
              "    </tr>\n",
              "  </tbody>\n",
              "</table>\n",
              "</div>\n",
              "    <div class=\"colab-df-buttons\">\n",
              "\n",
              "  <div class=\"colab-df-container\">\n",
              "    <button class=\"colab-df-convert\" onclick=\"convertToInteractive('df-fe80c51f-330e-494d-9c60-02ad39f55c08')\"\n",
              "            title=\"Convert this dataframe to an interactive table.\"\n",
              "            style=\"display:none;\">\n",
              "\n",
              "  <svg xmlns=\"http://www.w3.org/2000/svg\" height=\"24px\" viewBox=\"0 -960 960 960\">\n",
              "    <path d=\"M120-120v-720h720v720H120Zm60-500h600v-160H180v160Zm220 220h160v-160H400v160Zm0 220h160v-160H400v160ZM180-400h160v-160H180v160Zm440 0h160v-160H620v160ZM180-180h160v-160H180v160Zm440 0h160v-160H620v160Z\"/>\n",
              "  </svg>\n",
              "    </button>\n",
              "\n",
              "  <style>\n",
              "    .colab-df-container {\n",
              "      display:flex;\n",
              "      gap: 12px;\n",
              "    }\n",
              "\n",
              "    .colab-df-convert {\n",
              "      background-color: #E8F0FE;\n",
              "      border: none;\n",
              "      border-radius: 50%;\n",
              "      cursor: pointer;\n",
              "      display: none;\n",
              "      fill: #1967D2;\n",
              "      height: 32px;\n",
              "      padding: 0 0 0 0;\n",
              "      width: 32px;\n",
              "    }\n",
              "\n",
              "    .colab-df-convert:hover {\n",
              "      background-color: #E2EBFA;\n",
              "      box-shadow: 0px 1px 2px rgba(60, 64, 67, 0.3), 0px 1px 3px 1px rgba(60, 64, 67, 0.15);\n",
              "      fill: #174EA6;\n",
              "    }\n",
              "\n",
              "    .colab-df-buttons div {\n",
              "      margin-bottom: 4px;\n",
              "    }\n",
              "\n",
              "    [theme=dark] .colab-df-convert {\n",
              "      background-color: #3B4455;\n",
              "      fill: #D2E3FC;\n",
              "    }\n",
              "\n",
              "    [theme=dark] .colab-df-convert:hover {\n",
              "      background-color: #434B5C;\n",
              "      box-shadow: 0px 1px 3px 1px rgba(0, 0, 0, 0.15);\n",
              "      filter: drop-shadow(0px 1px 2px rgba(0, 0, 0, 0.3));\n",
              "      fill: #FFFFFF;\n",
              "    }\n",
              "  </style>\n",
              "\n",
              "    <script>\n",
              "      const buttonEl =\n",
              "        document.querySelector('#df-fe80c51f-330e-494d-9c60-02ad39f55c08 button.colab-df-convert');\n",
              "      buttonEl.style.display =\n",
              "        google.colab.kernel.accessAllowed ? 'block' : 'none';\n",
              "\n",
              "      async function convertToInteractive(key) {\n",
              "        const element = document.querySelector('#df-fe80c51f-330e-494d-9c60-02ad39f55c08');\n",
              "        const dataTable =\n",
              "          await google.colab.kernel.invokeFunction('convertToInteractive',\n",
              "                                                    [key], {});\n",
              "        if (!dataTable) return;\n",
              "\n",
              "        const docLinkHtml = 'Like what you see? Visit the ' +\n",
              "          '<a target=\"_blank\" href=https://colab.research.google.com/notebooks/data_table.ipynb>data table notebook</a>'\n",
              "          + ' to learn more about interactive tables.';\n",
              "        element.innerHTML = '';\n",
              "        dataTable['output_type'] = 'display_data';\n",
              "        await google.colab.output.renderOutput(dataTable, element);\n",
              "        const docLink = document.createElement('div');\n",
              "        docLink.innerHTML = docLinkHtml;\n",
              "        element.appendChild(docLink);\n",
              "      }\n",
              "    </script>\n",
              "  </div>\n",
              "\n",
              "\n",
              "<div id=\"df-e28323e3-3599-406c-9e63-3a833f988111\">\n",
              "  <button class=\"colab-df-quickchart\" onclick=\"quickchart('df-e28323e3-3599-406c-9e63-3a833f988111')\"\n",
              "            title=\"Suggest charts\"\n",
              "            style=\"display:none;\">\n",
              "\n",
              "<svg xmlns=\"http://www.w3.org/2000/svg\" height=\"24px\"viewBox=\"0 0 24 24\"\n",
              "     width=\"24px\">\n",
              "    <g>\n",
              "        <path d=\"M19 3H5c-1.1 0-2 .9-2 2v14c0 1.1.9 2 2 2h14c1.1 0 2-.9 2-2V5c0-1.1-.9-2-2-2zM9 17H7v-7h2v7zm4 0h-2V7h2v10zm4 0h-2v-4h2v4z\"/>\n",
              "    </g>\n",
              "</svg>\n",
              "  </button>\n",
              "\n",
              "<style>\n",
              "  .colab-df-quickchart {\n",
              "      --bg-color: #E8F0FE;\n",
              "      --fill-color: #1967D2;\n",
              "      --hover-bg-color: #E2EBFA;\n",
              "      --hover-fill-color: #174EA6;\n",
              "      --disabled-fill-color: #AAA;\n",
              "      --disabled-bg-color: #DDD;\n",
              "  }\n",
              "\n",
              "  [theme=dark] .colab-df-quickchart {\n",
              "      --bg-color: #3B4455;\n",
              "      --fill-color: #D2E3FC;\n",
              "      --hover-bg-color: #434B5C;\n",
              "      --hover-fill-color: #FFFFFF;\n",
              "      --disabled-bg-color: #3B4455;\n",
              "      --disabled-fill-color: #666;\n",
              "  }\n",
              "\n",
              "  .colab-df-quickchart {\n",
              "    background-color: var(--bg-color);\n",
              "    border: none;\n",
              "    border-radius: 50%;\n",
              "    cursor: pointer;\n",
              "    display: none;\n",
              "    fill: var(--fill-color);\n",
              "    height: 32px;\n",
              "    padding: 0;\n",
              "    width: 32px;\n",
              "  }\n",
              "\n",
              "  .colab-df-quickchart:hover {\n",
              "    background-color: var(--hover-bg-color);\n",
              "    box-shadow: 0 1px 2px rgba(60, 64, 67, 0.3), 0 1px 3px 1px rgba(60, 64, 67, 0.15);\n",
              "    fill: var(--button-hover-fill-color);\n",
              "  }\n",
              "\n",
              "  .colab-df-quickchart-complete:disabled,\n",
              "  .colab-df-quickchart-complete:disabled:hover {\n",
              "    background-color: var(--disabled-bg-color);\n",
              "    fill: var(--disabled-fill-color);\n",
              "    box-shadow: none;\n",
              "  }\n",
              "\n",
              "  .colab-df-spinner {\n",
              "    border: 2px solid var(--fill-color);\n",
              "    border-color: transparent;\n",
              "    border-bottom-color: var(--fill-color);\n",
              "    animation:\n",
              "      spin 1s steps(1) infinite;\n",
              "  }\n",
              "\n",
              "  @keyframes spin {\n",
              "    0% {\n",
              "      border-color: transparent;\n",
              "      border-bottom-color: var(--fill-color);\n",
              "      border-left-color: var(--fill-color);\n",
              "    }\n",
              "    20% {\n",
              "      border-color: transparent;\n",
              "      border-left-color: var(--fill-color);\n",
              "      border-top-color: var(--fill-color);\n",
              "    }\n",
              "    30% {\n",
              "      border-color: transparent;\n",
              "      border-left-color: var(--fill-color);\n",
              "      border-top-color: var(--fill-color);\n",
              "      border-right-color: var(--fill-color);\n",
              "    }\n",
              "    40% {\n",
              "      border-color: transparent;\n",
              "      border-right-color: var(--fill-color);\n",
              "      border-top-color: var(--fill-color);\n",
              "    }\n",
              "    60% {\n",
              "      border-color: transparent;\n",
              "      border-right-color: var(--fill-color);\n",
              "    }\n",
              "    80% {\n",
              "      border-color: transparent;\n",
              "      border-right-color: var(--fill-color);\n",
              "      border-bottom-color: var(--fill-color);\n",
              "    }\n",
              "    90% {\n",
              "      border-color: transparent;\n",
              "      border-bottom-color: var(--fill-color);\n",
              "    }\n",
              "  }\n",
              "</style>\n",
              "\n",
              "  <script>\n",
              "    async function quickchart(key) {\n",
              "      const quickchartButtonEl =\n",
              "        document.querySelector('#' + key + ' button');\n",
              "      quickchartButtonEl.disabled = true;  // To prevent multiple clicks.\n",
              "      quickchartButtonEl.classList.add('colab-df-spinner');\n",
              "      try {\n",
              "        const charts = await google.colab.kernel.invokeFunction(\n",
              "            'suggestCharts', [key], {});\n",
              "      } catch (error) {\n",
              "        console.error('Error during call to suggestCharts:', error);\n",
              "      }\n",
              "      quickchartButtonEl.classList.remove('colab-df-spinner');\n",
              "      quickchartButtonEl.classList.add('colab-df-quickchart-complete');\n",
              "    }\n",
              "    (() => {\n",
              "      let quickchartButtonEl =\n",
              "        document.querySelector('#df-e28323e3-3599-406c-9e63-3a833f988111 button');\n",
              "      quickchartButtonEl.style.display =\n",
              "        google.colab.kernel.accessAllowed ? 'block' : 'none';\n",
              "    })();\n",
              "  </script>\n",
              "</div>\n",
              "\n",
              "    </div>\n",
              "  </div>\n"
            ]
          },
          "metadata": {},
          "execution_count": 57
        }
      ]
    },
    {
      "cell_type": "code",
      "source": [
        "df.boxplot(\"Words Per Tweet\", by=\"label_name\");"
      ],
      "metadata": {
        "colab": {
          "base_uri": "https://localhost:8080/",
          "height": 478
        },
        "id": "z2NDVkANl_ap",
        "outputId": "b6499a52-499d-46f4-a086-86ec216a6a20"
      },
      "execution_count": 60,
      "outputs": [
        {
          "output_type": "display_data",
          "data": {
            "text/plain": [
              "<Figure size 640x480 with 1 Axes>"
            ],
            "image/png": "[encoded data removed]"
          },
          "metadata": {}
        }
      ]
    },
    {
      "cell_type": "markdown",
      "source": [
        "Maximum words per tweet are less than the maximum context size of 512. Most of the tweets are about 15 words longs, for all emotions."
      ],
      "metadata": {
        "id": "kLK-pnbqnLMH"
      }
    },
    {
      "cell_type": "code",
      "source": [
        "emotions.reset_format()"
      ],
      "metadata": {
        "id": "1fxNI115nKJV"
      },
      "execution_count": 70,
      "outputs": []
    },
    {
      "cell_type": "markdown",
      "source": [
        "# Tokenization"
      ],
      "metadata": {
        "id": "CUTbX-4kseKn"
      }
    },
    {
      "cell_type": "code",
      "source": [
        "from transformers import AutoTokenizer"
      ],
      "metadata": {
        "id": "zevoLx-pz_3N"
      },
      "execution_count": 84,
      "outputs": []
    },
    {
      "cell_type": "code",
      "source": [
        "tokenizer = AutoTokenizer.from_pretrained('distilbert-base-uncased')"
      ],
      "metadata": {
        "colab": {
          "base_uri": "https://localhost:8080/",
          "height": 145,
          "referenced_widgets": [
            "59f24398c1784f4c80b6d505ae187aaa",
            "61005ccd86804dd4af18dae28d75e43b",
            "386b5743a571433893798986bc351853",
            "6985de7dcf3d40ab8382da96cbcd0128",
            "1d1fc43cfe494ad68f2d05aa52a94e3b",
            "0c977a47c46d4f1c8578cacd87ee3352",
            "7cbc486a7f714495aba1666cb63666db",
            "872822d11aba4de9bb39236cd9d4542a",
            "2695c4f1618a4fa38ab919dbb7d063ce",
            "450aeb32656d4c09adfe0993ce8ad5c3",
            "89bcd8b0120e4ed6b3d5dda28aca242d",
            "dba3281f5b9b462f97d64009fdb62bac",
            "490a1fed568e4164b024c6b65939be64",
            "15c4d877c0eb414bbc50352b777842e0",
            "bfabe5f9ddff49e48c4f813740cc3845",
            "03ae8cd48af2469195cf6ea307af6359",
            "75fa1f3371a3444e9619fc3861c16b7f",
            "7902b04c801343b0abb2310a4ca1387a",
            "905b34ead6214069942721b5b2384754",
            "aaa6de719bcf4557b04cbee6305a4c16",
            "a7c991e8dbd64c53b760bef90b2680b4",
            "13763bbcc78245a6826351e38351894b",
            "f4554fa740bc49ae8d3c8c38f4cf0de0",
            "52bb5727b1454bf4a716702ea852c076",
            "00975042b5634d8aac50b114ee5684bc",
            "c7e34e246cf24e448bb20c139c92422a",
            "55d14b305ad54f33bbecf85f07874b17",
            "656956ea6b64481691759fdc6a87c3ac",
            "3c3f7570a5454a5b9eec63e4276503b7",
            "1b13f4d96b8c468982f62bd5be4309fb",
            "339b1ccf2ded494280f395003cc8689d",
            "6f4663367dba4ac48d70660c919f0ef6",
            "b6b967babb6d44b7b114205761e79609",
            "b97201e894f94378a7535d62a74a2494",
            "1611b3d5815644bdafad217c36b0990e",
            "dc7fb5d1813f4968821c3906639b64ad",
            "37cad550decb4930ad24dd9c84b74c6f",
            "0f30ee03f8c54389985ff5e01f231f69",
            "cb94825a06854410a20c038ce5ce037e",
            "1e1c3bca691c4aa9a5e09d8cf91878b4",
            "9b0f337bad1945d0bb8ca0ed03090ba3",
            "9d8765169ffc4f1791420abfd942f680",
            "13b8c8020332476eae4f945b1ebe5a1d",
            "6cfae53cdebe4e58a7d81c428d01331f"
          ]
        },
        "id": "YMH1qzZ0ZSYz",
        "outputId": "456b1913-fd4a-4f06-e844-85fbb16c5b2d"
      },
      "execution_count": 86,
      "outputs": [
        {
          "output_type": "display_data",
          "data": {
            "text/plain": [
              "tokenizer_config.json:   0%|          | 0.00/28.0 [00:00<?, ?B/s]"
            ],
            "application/vnd.jupyter.widget-view+json": {
              "version_major": 2,
              "version_minor": 0,
              "model_id": "59f24398c1784f4c80b6d505ae187aaa"
            }
          },
          "metadata": {}
        },
        {
          "output_type": "display_data",
          "data": {
            "text/plain": [
              "config.json:   0%|          | 0.00/483 [00:00<?, ?B/s]"
            ],
            "application/vnd.jupyter.widget-view+json": {
              "version_major": 2,
              "version_minor": 0,
              "model_id": "dba3281f5b9b462f97d64009fdb62bac"
            }
          },
          "metadata": {}
        },
        {
          "output_type": "display_data",
          "data": {
            "text/plain": [
              "vocab.txt:   0%|          | 0.00/232k [00:00<?, ?B/s]"
            ],
            "application/vnd.jupyter.widget-view+json": {
              "version_major": 2,
              "version_minor": 0,
              "model_id": "f4554fa740bc49ae8d3c8c38f4cf0de0"
            }
          },
          "metadata": {}
        },
        {
          "output_type": "display_data",
          "data": {
            "text/plain": [
              "tokenizer.json:   0%|          | 0.00/466k [00:00<?, ?B/s]"
            ],
            "application/vnd.jupyter.widget-view+json": {
              "version_major": 2,
              "version_minor": 0,
              "model_id": "b97201e894f94378a7535d62a74a2494"
            }
          },
          "metadata": {}
        }
      ]
    },
    {
      "cell_type": "code",
      "source": [
        "tokenizer"
      ],
      "metadata": {
        "colab": {
          "base_uri": "https://localhost:8080/"
        },
        "id": "LcPDetzTZYDf",
        "outputId": "c6f9d1c6-b472-4863-f23e-ab30612e03ac"
      },
      "execution_count": 87,
      "outputs": [
        {
          "output_type": "execute_result",
          "data": {
            "text/plain": [
              "DistilBertTokenizerFast(name_or_path='distilbert-base-uncased', vocab_size=30522, model_max_length=512, is_fast=True, padding_side='right', truncation_side='right', special_tokens={'unk_token': '[UNK]', 'sep_token': '[SEP]', 'pad_token': '[PAD]', 'cls_token': '[CLS]', 'mask_token': '[MASK]'}, clean_up_tokenization_spaces=True),  added_tokens_decoder={\n",
              "\t0: AddedToken(\"[PAD]\", rstrip=False, lstrip=False, single_word=False, normalized=False, special=True),\n",
              "\t100: AddedToken(\"[UNK]\", rstrip=False, lstrip=False, single_word=False, normalized=False, special=True),\n",
              "\t101: AddedToken(\"[CLS]\", rstrip=False, lstrip=False, single_word=False, normalized=False, special=True),\n",
              "\t102: AddedToken(\"[SEP]\", rstrip=False, lstrip=False, single_word=False, normalized=False, special=True),\n",
              "\t103: AddedToken(\"[MASK]\", rstrip=False, lstrip=False, single_word=False, normalized=False, special=True),\n",
              "}"
            ]
          },
          "metadata": {},
          "execution_count": 87
        }
      ]
    },
    {
      "cell_type": "code",
      "source": [
        "text = \"Tokenizing text is a core task of NLP.\"\n",
        "encoded_text = tokenizer(text)\n",
        "encoded_text"
      ],
      "metadata": {
        "colab": {
          "base_uri": "https://localhost:8080/"
        },
        "id": "zBHXhBuTaesj",
        "outputId": "21ecf92d-ca56-413f-db49-f99ba30f5c86"
      },
      "execution_count": 113,
      "outputs": [
        {
          "output_type": "execute_result",
          "data": {
            "text/plain": [
              "{'input_ids': [101, 19204, 6026, 3793, 2003, 1037, 4563, 4708, 1997, 17953, 2361, 1012, 102], 'attention_mask': [1, 1, 1, 1, 1, 1, 1, 1, 1, 1, 1, 1, 1]}"
            ]
          },
          "metadata": {},
          "execution_count": 113
        }
      ]
    },
    {
      "cell_type": "code",
      "source": [
        "tokens = tokenizer.convert_ids_to_tokens(encoded_text.input_ids)\n",
        "print(tokens)"
      ],
      "metadata": {
        "colab": {
          "base_uri": "https://localhost:8080/"
        },
        "id": "muCraZ2Aaxwg",
        "outputId": "3f3b1f1d-4a2f-4c7a-ed80-48d88a2e2a79"
      },
      "execution_count": 115,
      "outputs": [
        {
          "output_type": "stream",
          "name": "stdout",
          "text": [
            "['[CLS]', 'token', '##izing', 'text', 'is', 'a', 'core', 'task', 'of', 'nl', '##p', '.', '[SEP]']\n"
          ]
        }
      ]
    },
    {
      "cell_type": "code",
      "source": [
        "tokenizer.convert_tokens_to_string(tokens) # similar to \" \".join() but handle sub-word tokenization artifacts"
      ],
      "metadata": {
        "colab": {
          "base_uri": "https://localhost:8080/",
          "height": 35
        },
        "id": "cbUACNbLeluX",
        "outputId": "53147eb1-f159-4757-884b-3233b3261087"
      },
      "execution_count": 116,
      "outputs": [
        {
          "output_type": "execute_result",
          "data": {
            "text/plain": [
              "'[CLS] tokenizing text is a core task of nlp. [SEP]'"
            ],
            "application/vnd.google.colaboratory.intrinsic+json": {
              "type": "string"
            }
          },
          "metadata": {},
          "execution_count": 116
        }
      ]
    },
    {
      "cell_type": "code",
      "source": [
        "tokenizer.vocab_size, tokenizer.model_max_length, tokenizer.model_input_names"
      ],
      "metadata": {
        "colab": {
          "base_uri": "https://localhost:8080/"
        },
        "id": "d10eQ95Fh9gW",
        "outputId": "729d4d5e-ae1b-4150-aeb8-ad6f6d478ce1"
      },
      "execution_count": 119,
      "outputs": [
        {
          "output_type": "execute_result",
          "data": {
            "text/plain": [
              "(30522, 512, ['input_ids', 'attention_mask'])"
            ]
          },
          "metadata": {},
          "execution_count": 119
        }
      ]
    },
    {
      "cell_type": "markdown",
      "source": [
        "Tokenizing whole dataset:"
      ],
      "metadata": {
        "id": "J_0KvnCfi3kl"
      }
    },
    {
      "cell_type": "code",
      "source": [
        "def tokenize(batch):\n",
        "    return tokenizer(batch[\"text\"], padding=True, truncation=True)"
      ],
      "metadata": {
        "id": "UVnV3A2bi5XU"
      },
      "execution_count": 137,
      "outputs": []
    },
    {
      "cell_type": "code",
      "source": [
        "tokenize(emotions[\"train\"][:2])"
      ],
      "metadata": {
        "colab": {
          "base_uri": "https://localhost:8080/"
        },
        "id": "fPib53iVlNLW",
        "outputId": "4d2def58-d9cd-4cb0-ddd3-b96fdea2b017"
      },
      "execution_count": 140,
      "outputs": [
        {
          "output_type": "execute_result",
          "data": {
            "text/plain": [
              "{'input_ids': [[101, 1045, 2134, 2102, 2514, 26608, 102, 0, 0, 0, 0, 0, 0, 0, 0, 0, 0, 0, 0, 0, 0, 0, 0], [101, 1045, 2064, 2175, 2013, 3110, 2061, 20625, 2000, 2061, 9636, 17772, 2074, 2013, 2108, 2105, 2619, 2040, 14977, 1998, 2003, 8300, 102]], 'attention_mask': [[1, 1, 1, 1, 1, 1, 1, 0, 0, 0, 0, 0, 0, 0, 0, 0, 0, 0, 0, 0, 0, 0, 0], [1, 1, 1, 1, 1, 1, 1, 1, 1, 1, 1, 1, 1, 1, 1, 1, 1, 1, 1, 1, 1, 1, 1]]}"
            ]
          },
          "metadata": {},
          "execution_count": 140
        }
      ]
    },
    {
      "cell_type": "markdown",
      "source": [
        "![image.png](data:image/png;base64,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)"
      ],
      "metadata": {
        "id": "flYKi1Tkl8Hk"
      }
    },
    {
      "cell_type": "markdown",
      "source": [
        "![image.png](data:image/png;base64,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)"
      ],
      "metadata": {
        "id": "oC_Aa_DoAw2H"
      }
    },
    {
      "cell_type": "code",
      "source": [
        "emotions_encoded = emotions.map(tokenize, batched=True, batch_size=None)"
      ],
      "metadata": {
        "id": "AorFc0e7qdq9"
      },
      "execution_count": 148,
      "outputs": []
    },
    {
      "cell_type": "markdown",
      "source": [
        "By default, the `map()` method operates individually on every example in the corpus,\n",
        "so setting `batched=True` will encode the tweets in batches. Because we’ve set\n",
        "`batch_size=None`, our `tokenize()` function will be applied on the full dataset as a\n",
        "single batch. This ensures that the input tensors and attention masks have the same\n",
        "shape globally"
      ],
      "metadata": {
        "id": "5cVqVc02qGuE"
      }
    },
    {
      "cell_type": "code",
      "source": [
        "emotions_encoded.column_names"
      ],
      "metadata": {
        "colab": {
          "base_uri": "https://localhost:8080/"
        },
        "id": "vT5ml7guluc6",
        "outputId": "93255797-b58f-482d-85b2-760fb5fb3267"
      },
      "execution_count": 150,
      "outputs": [
        {
          "output_type": "execute_result",
          "data": {
            "text/plain": [
              "{'train': ['text', 'label', 'input_ids', 'attention_mask'],\n",
              " 'validation': ['text', 'label', 'input_ids', 'attention_mask'],\n",
              " 'test': ['text', 'label', 'input_ids', 'attention_mask']}"
            ]
          },
          "metadata": {},
          "execution_count": 150
        }
      ]
    },
    {
      "cell_type": "code",
      "source": [
        "import pandas as pd\n",
        "pd.DataFrame(emotions_encoded[\"train\"][:5])"
      ],
      "metadata": {
        "colab": {
          "base_uri": "https://localhost:8080/",
          "height": 206
        },
        "id": "vUnBuuGPrmPu",
        "outputId": "b3777107-51fd-4ca1-c243-3f434291f646"
      },
      "execution_count": 160,
      "outputs": [
        {
          "output_type": "execute_result",
          "data": {
            "text/plain": [
              "                                                text  ...                                     attention_mask\n",
              "0                            i didnt feel humiliated  ...  [1, 1, 1, 1, 1, 1, 1, 0, 0, 0, 0, 0, 0, 0, 0, ...\n",
              "1  i can go from feeling so hopeless to so damned...  ...  [1, 1, 1, 1, 1, 1, 1, 1, 1, 1, 1, 1, 1, 1, 1, ...\n",
              "2   im grabbing a minute to post i feel greedy wrong  ...  [1, 1, 1, 1, 1, 1, 1, 1, 1, 1, 1, 1, 0, 0, 0, ...\n",
              "3  i am ever feeling nostalgic about the fireplac...  ...  [1, 1, 1, 1, 1, 1, 1, 1, 1, 1, 1, 1, 1, 1, 1, ...\n",
              "4                               i am feeling grouchy  ...  [1, 1, 1, 1, 1, 1, 1, 1, 0, 0, 0, 0, 0, 0, 0, ...\n",
              "\n",
              "[5 rows x 4 columns]"
            ],
            "text/html": [
              "\n",
              "  <div id=\"df-830d65b6-f198-4832-b687-5b80d57735d9\" class=\"colab-df-container\">\n",
              "    <div>\n",
              "<style scoped>\n",
              "    .dataframe tbody tr th:only-of-type {\n",
              "        vertical-align: middle;\n",
              "    }\n",
              "\n",
              "    .dataframe tbody tr th {\n",
              "        vertical-align: top;\n",
              "    }\n",
              "\n",
              "    .dataframe thead th {\n",
              "        text-align: right;\n",
              "    }\n",
              "</style>\n",
              "<table border=\"1\" class=\"dataframe\">\n",
              "  <thead>\n",
              "    <tr style=\"text-align: right;\">\n",
              "      <th></th>\n",
              "      <th>text</th>\n",
              "      <th>label</th>\n",
              "      <th>input_ids</th>\n",
              "      <th>attention_mask</th>\n",
              "    </tr>\n",
              "  </thead>\n",
              "  <tbody>\n",
              "    <tr>\n",
              "      <th>0</th>\n",
              "      <td>i didnt feel humiliated</td>\n",
              "      <td>0</td>\n",
              "      <td>[101, 1045, 2134, 2102, 2514, 26608, 102, 0, 0...</td>\n",
              "      <td>[1, 1, 1, 1, 1, 1, 1, 0, 0, 0, 0, 0, 0, 0, 0, ...</td>\n",
              "    </tr>\n",
              "    <tr>\n",
              "      <th>1</th>\n",
              "      <td>i can go from feeling so hopeless to so damned...</td>\n",
              "      <td>0</td>\n",
              "      <td>[101, 1045, 2064, 2175, 2013, 3110, 2061, 2062...</td>\n",
              "      <td>[1, 1, 1, 1, 1, 1, 1, 1, 1, 1, 1, 1, 1, 1, 1, ...</td>\n",
              "    </tr>\n",
              "    <tr>\n",
              "      <th>2</th>\n",
              "      <td>im grabbing a minute to post i feel greedy wrong</td>\n",
              "      <td>3</td>\n",
              "      <td>[101, 10047, 9775, 1037, 3371, 2000, 2695, 104...</td>\n",
              "      <td>[1, 1, 1, 1, 1, 1, 1, 1, 1, 1, 1, 1, 0, 0, 0, ...</td>\n",
              "    </tr>\n",
              "    <tr>\n",
              "      <th>3</th>\n",
              "      <td>i am ever feeling nostalgic about the fireplac...</td>\n",
              "      <td>2</td>\n",
              "      <td>[101, 1045, 2572, 2412, 3110, 16839, 9080, 128...</td>\n",
              "      <td>[1, 1, 1, 1, 1, 1, 1, 1, 1, 1, 1, 1, 1, 1, 1, ...</td>\n",
              "    </tr>\n",
              "    <tr>\n",
              "      <th>4</th>\n",
              "      <td>i am feeling grouchy</td>\n",
              "      <td>3</td>\n",
              "      <td>[101, 1045, 2572, 3110, 24665, 7140, 11714, 10...</td>\n",
              "      <td>[1, 1, 1, 1, 1, 1, 1, 1, 0, 0, 0, 0, 0, 0, 0, ...</td>\n",
              "    </tr>\n",
              "  </tbody>\n",
              "</table>\n",
              "</div>\n",
              "    <div class=\"colab-df-buttons\">\n",
              "\n",
              "  <div class=\"colab-df-container\">\n",
              "    <button class=\"colab-df-convert\" onclick=\"convertToInteractive('df-830d65b6-f198-4832-b687-5b80d57735d9')\"\n",
              "            title=\"Convert this dataframe to an interactive table.\"\n",
              "            style=\"display:none;\">\n",
              "\n",
              "  <svg xmlns=\"http://www.w3.org/2000/svg\" height=\"24px\" viewBox=\"0 -960 960 960\">\n",
              "    <path d=\"M120-120v-720h720v720H120Zm60-500h600v-160H180v160Zm220 220h160v-160H400v160Zm0 220h160v-160H400v160ZM180-400h160v-160H180v160Zm440 0h160v-160H620v160ZM180-180h160v-160H180v160Zm440 0h160v-160H620v160Z\"/>\n",
              "  </svg>\n",
              "    </button>\n",
              "\n",
              "  <style>\n",
              "    .colab-df-container {\n",
              "      display:flex;\n",
              "      gap: 12px;\n",
              "    }\n",
              "\n",
              "    .colab-df-convert {\n",
              "      background-color: #E8F0FE;\n",
              "      border: none;\n",
              "      border-radius: 50%;\n",
              "      cursor: pointer;\n",
              "      display: none;\n",
              "      fill: #1967D2;\n",
              "      height: 32px;\n",
              "      padding: 0 0 0 0;\n",
              "      width: 32px;\n",
              "    }\n",
              "\n",
              "    .colab-df-convert:hover {\n",
              "      background-color: #E2EBFA;\n",
              "      box-shadow: 0px 1px 2px rgba(60, 64, 67, 0.3), 0px 1px 3px 1px rgba(60, 64, 67, 0.15);\n",
              "      fill: #174EA6;\n",
              "    }\n",
              "\n",
              "    .colab-df-buttons div {\n",
              "      margin-bottom: 4px;\n",
              "    }\n",
              "\n",
              "    [theme=dark] .colab-df-convert {\n",
              "      background-color: #3B4455;\n",
              "      fill: #D2E3FC;\n",
              "    }\n",
              "\n",
              "    [theme=dark] .colab-df-convert:hover {\n",
              "      background-color: #434B5C;\n",
              "      box-shadow: 0px 1px 3px 1px rgba(0, 0, 0, 0.15);\n",
              "      filter: drop-shadow(0px 1px 2px rgba(0, 0, 0, 0.3));\n",
              "      fill: #FFFFFF;\n",
              "    }\n",
              "  </style>\n",
              "\n",
              "    <script>\n",
              "      const buttonEl =\n",
              "        document.querySelector('#df-830d65b6-f198-4832-b687-5b80d57735d9 button.colab-df-convert');\n",
              "      buttonEl.style.display =\n",
              "        google.colab.kernel.accessAllowed ? 'block' : 'none';\n",
              "\n",
              "      async function convertToInteractive(key) {\n",
              "        const element = document.querySelector('#df-830d65b6-f198-4832-b687-5b80d57735d9');\n",
              "        const dataTable =\n",
              "          await google.colab.kernel.invokeFunction('convertToInteractive',\n",
              "                                                    [key], {});\n",
              "        if (!dataTable) return;\n",
              "\n",
              "        const docLinkHtml = 'Like what you see? Visit the ' +\n",
              "          '<a target=\"_blank\" href=https://colab.research.google.com/notebooks/data_table.ipynb>data table notebook</a>'\n",
              "          + ' to learn more about interactive tables.';\n",
              "        element.innerHTML = '';\n",
              "        dataTable['output_type'] = 'display_data';\n",
              "        await google.colab.output.renderOutput(dataTable, element);\n",
              "        const docLink = document.createElement('div');\n",
              "        docLink.innerHTML = docLinkHtml;\n",
              "        element.appendChild(docLink);\n",
              "      }\n",
              "    </script>\n",
              "  </div>\n",
              "\n",
              "\n",
              "<div id=\"df-48d64d00-eee1-4c05-b588-bc7c63b69a96\">\n",
              "  <button class=\"colab-df-quickchart\" onclick=\"quickchart('df-48d64d00-eee1-4c05-b588-bc7c63b69a96')\"\n",
              "            title=\"Suggest charts\"\n",
              "            style=\"display:none;\">\n",
              "\n",
              "<svg xmlns=\"http://www.w3.org/2000/svg\" height=\"24px\"viewBox=\"0 0 24 24\"\n",
              "     width=\"24px\">\n",
              "    <g>\n",
              "        <path d=\"M19 3H5c-1.1 0-2 .9-2 2v14c0 1.1.9 2 2 2h14c1.1 0 2-.9 2-2V5c0-1.1-.9-2-2-2zM9 17H7v-7h2v7zm4 0h-2V7h2v10zm4 0h-2v-4h2v4z\"/>\n",
              "    </g>\n",
              "</svg>\n",
              "  </button>\n",
              "\n",
              "<style>\n",
              "  .colab-df-quickchart {\n",
              "      --bg-color: #E8F0FE;\n",
              "      --fill-color: #1967D2;\n",
              "      --hover-bg-color: #E2EBFA;\n",
              "      --hover-fill-color: #174EA6;\n",
              "      --disabled-fill-color: #AAA;\n",
              "      --disabled-bg-color: #DDD;\n",
              "  }\n",
              "\n",
              "  [theme=dark] .colab-df-quickchart {\n",
              "      --bg-color: #3B4455;\n",
              "      --fill-color: #D2E3FC;\n",
              "      --hover-bg-color: #434B5C;\n",
              "      --hover-fill-color: #FFFFFF;\n",
              "      --disabled-bg-color: #3B4455;\n",
              "      --disabled-fill-color: #666;\n",
              "  }\n",
              "\n",
              "  .colab-df-quickchart {\n",
              "    background-color: var(--bg-color);\n",
              "    border: none;\n",
              "    border-radius: 50%;\n",
              "    cursor: pointer;\n",
              "    display: none;\n",
              "    fill: var(--fill-color);\n",
              "    height: 32px;\n",
              "    padding: 0;\n",
              "    width: 32px;\n",
              "  }\n",
              "\n",
              "  .colab-df-quickchart:hover {\n",
              "    background-color: var(--hover-bg-color);\n",
              "    box-shadow: 0 1px 2px rgba(60, 64, 67, 0.3), 0 1px 3px 1px rgba(60, 64, 67, 0.15);\n",
              "    fill: var(--button-hover-fill-color);\n",
              "  }\n",
              "\n",
              "  .colab-df-quickchart-complete:disabled,\n",
              "  .colab-df-quickchart-complete:disabled:hover {\n",
              "    background-color: var(--disabled-bg-color);\n",
              "    fill: var(--disabled-fill-color);\n",
              "    box-shadow: none;\n",
              "  }\n",
              "\n",
              "  .colab-df-spinner {\n",
              "    border: 2px solid var(--fill-color);\n",
              "    border-color: transparent;\n",
              "    border-bottom-color: var(--fill-color);\n",
              "    animation:\n",
              "      spin 1s steps(1) infinite;\n",
              "  }\n",
              "\n",
              "  @keyframes spin {\n",
              "    0% {\n",
              "      border-color: transparent;\n",
              "      border-bottom-color: var(--fill-color);\n",
              "      border-left-color: var(--fill-color);\n",
              "    }\n",
              "    20% {\n",
              "      border-color: transparent;\n",
              "      border-left-color: var(--fill-color);\n",
              "      border-top-color: var(--fill-color);\n",
              "    }\n",
              "    30% {\n",
              "      border-color: transparent;\n",
              "      border-left-color: var(--fill-color);\n",
              "      border-top-color: var(--fill-color);\n",
              "      border-right-color: var(--fill-color);\n",
              "    }\n",
              "    40% {\n",
              "      border-color: transparent;\n",
              "      border-right-color: var(--fill-color);\n",
              "      border-top-color: var(--fill-color);\n",
              "    }\n",
              "    60% {\n",
              "      border-color: transparent;\n",
              "      border-right-color: var(--fill-color);\n",
              "    }\n",
              "    80% {\n",
              "      border-color: transparent;\n",
              "      border-right-color: var(--fill-color);\n",
              "      border-bottom-color: var(--fill-color);\n",
              "    }\n",
              "    90% {\n",
              "      border-color: transparent;\n",
              "      border-bottom-color: var(--fill-color);\n",
              "    }\n",
              "  }\n",
              "</style>\n",
              "\n",
              "  <script>\n",
              "    async function quickchart(key) {\n",
              "      const quickchartButtonEl =\n",
              "        document.querySelector('#' + key + ' button');\n",
              "      quickchartButtonEl.disabled = true;  // To prevent multiple clicks.\n",
              "      quickchartButtonEl.classList.add('colab-df-spinner');\n",
              "      try {\n",
              "        const charts = await google.colab.kernel.invokeFunction(\n",
              "            'suggestCharts', [key], {});\n",
              "      } catch (error) {\n",
              "        console.error('Error during call to suggestCharts:', error);\n",
              "      }\n",
              "      quickchartButtonEl.classList.remove('colab-df-spinner');\n",
              "      quickchartButtonEl.classList.add('colab-df-quickchart-complete');\n",
              "    }\n",
              "    (() => {\n",
              "      let quickchartButtonEl =\n",
              "        document.querySelector('#df-48d64d00-eee1-4c05-b588-bc7c63b69a96 button');\n",
              "      quickchartButtonEl.style.display =\n",
              "        google.colab.kernel.accessAllowed ? 'block' : 'none';\n",
              "    })();\n",
              "  </script>\n",
              "</div>\n",
              "\n",
              "    </div>\n",
              "  </div>\n"
            ]
          },
          "metadata": {},
          "execution_count": 160
        }
      ]
    },
    {
      "cell_type": "markdown",
      "source": [
        "# Training a Text Classifier"
      ],
      "metadata": {
        "id": "af4B6dr2tvje"
      }
    },
    {
      "cell_type": "markdown",
      "source": [
        "![image.png](data:image/png;base64,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)"
      ],
      "metadata": {
        "id": "GLi7q78oyR1x"
      }
    },
    {
      "cell_type": "markdown",
      "source": [
        "- First, the text is tokenized and represented as one-hot vectors called token encodings.\n",
        "The size of the tokenizer vocabulary determines the dimension of the token encodings, and it usually consists of 20k–200k unique tokens.\n",
        "\n",
        "  - In practice, PyTorch (and tf) skips the step of creating one-hot vectors for\n",
        "token encodings because multiplying a matrix with a one-hot vector is the same as selecting a column (or row in tf) from the matrix. This can be\n",
        "done directly by getting the column (or row in tf) with the token ID from the\n",
        "matrix.\n",
        "\n",
        "- The token embeddings are then passed through the encoder block layers to\n",
        "yield a hidden state for each input token. For the pretraining objective of language\n",
        "modeling, each hidden state is fed to a layer that predicts the masked input tokens.\n",
        "For the classification task, we replace the language modeling layer with a classification layer."
      ],
      "metadata": {
        "id": "vKA7e_BayY0P"
      }
    },
    {
      "cell_type": "markdown",
      "source": [
        "We have two options to train such a model on our Twitter dataset:\n",
        "\n",
        "1. *Feature extraction*\n",
        "\n",
        "  We use the hidden states as features and just train a classifier on them, without modifying the pretrained model.\n",
        "\n",
        "2. *Fine-tuning*\n",
        "\n",
        "  We train the whole model end-to-end, which also updates the parameters of the\n",
        "pretrained model.\n"
      ],
      "metadata": {
        "id": "x4o8Sj-M4PdV"
      }
    },
    {
      "cell_type": "markdown",
      "source": [
        "## Transformers as Feature Extractors"
      ],
      "metadata": {
        "id": "Bz8zYzfV2MXG"
      }
    },
    {
      "cell_type": "markdown",
      "source": [
        "The advantage of this approach is that we can quickly train a small or shallow model. Such a model could be a neural classification layer or a method that does\n",
        "not rely on gradients, such as a random forest. This method is especially convenient if\n",
        "GPUs are unavailable, since the hidden states only need to be precomputed once."
      ],
      "metadata": {
        "id": "LUGC1PlZ541k"
      }
    },
    {
      "cell_type": "markdown",
      "source": [
        "![image.png](data:image/png;base64,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)"
      ],
      "metadata": {
        "id": "sVL4_6fc7O8m"
      }
    },
    {
      "cell_type": "code",
      "source": [
        "from transformers import AutoModel\n",
        "\n"
      ],
      "metadata": {
        "id": "tuEkVgwcsTGM"
      },
      "execution_count": 161,
      "outputs": []
    },
    {
      "cell_type": "code",
      "source": [],
      "metadata": {
        "id": "QR_BRb_p7c4a"
      },
      "execution_count": null,
      "outputs": []
    }
  ]
}